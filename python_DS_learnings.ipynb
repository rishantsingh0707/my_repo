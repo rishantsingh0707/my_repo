{
 "cells": [
  {
   "cell_type": "markdown",
   "metadata": {},
   "source": [
    "# Numpy"
   ]
  },
  {
   "cell_type": "code",
   "execution_count": 183,
   "metadata": {},
   "outputs": [],
   "source": [
    "import numpy as np"
   ]
  },
  {
   "cell_type": "code",
   "execution_count": 184,
   "metadata": {},
   "outputs": [
    {
     "name": "stdout",
     "output_type": "stream",
     "text": [
      "[1 2 3 4 5]\n",
      "[1, 2, 3, 4, 5]\n"
     ]
    }
   ],
   "source": [
    "# Array vs List\n",
    "arr = np.array([1,2,3,4,5])\n",
    "print(arr)      # When printing an array, the elements are seperated by a space between them\n",
    "\n",
    "list1 = [1,2,3,4,5]\n",
    "print(list1)    # When printing a list, the elements in the list are seperated by a comma (,)"
   ]
  },
  {
   "cell_type": "code",
   "execution_count": 185,
   "metadata": {},
   "outputs": [
    {
     "name": "stdout",
     "output_type": "stream",
     "text": [
      "3\n",
      "[5 3]\n",
      "[5 4 3 2 1]\n"
     ]
    }
   ],
   "source": [
    "# Slicing in array is same like slicing in list\n",
    "print(arr[2])   # Accessing an element at  a particular index\n",
    "print(arr[5:-5:-2])     # Slicing from-to a range. The third operand is for skipping. So if the skipper is 3 starting from position 0,\n",
    "                        # then the next element after index 0 i.e, at index 3 will be considered\n",
    "print(arr[::-1])        # Reversing an array (similar to reversing a list)"
   ]
  },
  {
   "cell_type": "code",
   "execution_count": 186,
   "metadata": {},
   "outputs": [
    {
     "name": "stdout",
     "output_type": "stream",
     "text": [
      "[[[[1 1 1 1]\n",
      "   [2 2 2 2]\n",
      "   [3 3 3 3]]]\n",
      "\n",
      "\n",
      " [[[4 4 4 4]\n",
      "   [5 5 5 5]\n",
      "   [6 6 6 6]]]]\n",
      "(2, 1, 3, 4)\n",
      "4\n",
      "24\n"
     ]
    }
   ],
   "source": [
    "# Multi-dimensional Array\n",
    "# Remember that when creating a multi-dimensional array, a point should always be considered that the np.array method takes one arguement. \n",
    "# So the multi-dimension must be written in square brackets (which represent a single arguement) but we can have multiple dimensions in it \n",
    "a_mul = np.array([\n",
    "    [[[1,1,1,1],\n",
    "    [2,2,2,2],\n",
    "    [3,3,3,3]]],\n",
    "\n",
    "    [[[4,4,4,4],\n",
    "    [5,5,5,5],\n",
    "    [6,6,6,6]]]\n",
    "    ])\n",
    "print(a_mul)\n",
    "print(a_mul.shape)\n",
    "print(a_mul.ndim)   # Specifies the depth of array. In the above example, The elements are present in a list,\n",
    "                    # which is present in an another list thatis again in a major (main) list\n",
    "print(a_mul.size)   # This method provides us the total number of elements in the (multidimentional) array"
   ]
  },
  {
   "cell_type": "code",
   "execution_count": 187,
   "metadata": {},
   "outputs": [
    {
     "name": "stdout",
     "output_type": "stream",
     "text": [
      "[[7 7]\n",
      " [7 7]]\n"
     ]
    }
   ],
   "source": [
    "# Create arrays with default values/fill with a particular value.\n",
    "a = np.full((2,2), 7)   # Arguements are: the shape of the n-dimensional array and the number to be filled within the n-d array\n",
    "print(a)\n",
    "\n",
    "# Same can be done"
   ]
  },
  {
   "cell_type": "code",
   "execution_count": 188,
   "metadata": {},
   "outputs": [
    {
     "name": "stdout",
     "output_type": "stream",
     "text": [
      "[[[0. 0. 0. 0. 0.]\n",
      "  [0. 0. 0. 0. 0.]]\n",
      "\n",
      " [[0. 0. 0. 0. 0.]\n",
      "  [0. 0. 0. 0. 0.]]\n",
      "\n",
      " [[0. 0. 0. 0. 0.]\n",
      "  [0. 0. 0. 0. 0.]]]\n",
      "\n",
      "[[[1. 1. 1. 1.]\n",
      "  [1. 1. 1. 1.]]\n",
      "\n",
      " [[1. 1. 1. 1.]\n",
      "  [1. 1. 1. 1.]]\n",
      "\n",
      " [[1. 1. 1. 1.]\n",
      "  [1. 1. 1. 1.]]]\n"
     ]
    }
   ],
   "source": [
    "# In real world use cases, we often use np.zeros or np.ones to create a buffer array of a specific dimension. The reason are as follows\n",
    "# 1. Initializing array: When creating an array in python, we need to initialize any it with some data values. \n",
    "#                        np.zeros and np.ones provide a convenient way to do so, without having to manually set each element.\n",
    "# 2. Placeholder arrays: In many cases, you might need an array to serve as a placeholder or a template for further computations. \n",
    "#                        np.zeros and np.ones allow you to create such arrays quickly and efficiently.\n",
    "# Custom data types: np.zeros and np.ones can also be used to create arrays with custom data types, like integers, floats point numbers. \n",
    "#                    This flexibility is particularly useful when working with specialized libraries or domains.\n",
    "zeros = np.zeros((3,2,5))\n",
    "print(zeros, end='\\n\\n')\n",
    "ones = np.ones((3,2,4))\n",
    "print(ones)"
   ]
  },
  {
   "cell_type": "code",
   "execution_count": 189,
   "metadata": {},
   "outputs": [
    {
     "name": "stdout",
     "output_type": "stream",
     "text": [
      "[[nan  0.  0.]\n",
      " [ 0.  0.  0.]\n",
      " [ 0.  0.  0.]]\n"
     ]
    }
   ],
   "source": [
    "# We also have a method that creates an empty nd array. WHile np.zeros and np.ones require initialization and thus consume lot of memory, \n",
    "# we can also create an empty array variable that stores the address of the empty array and no data.\n",
    "empty = np.empty((3,3))\n",
    "print(empty)"
   ]
  },
  {
   "cell_type": "code",
   "execution_count": 190,
   "metadata": {},
   "outputs": [
    {
     "name": "stdout",
     "output_type": "stream",
     "text": [
      "[ 0  2  4  6  8 10]\n",
      "\n",
      "[ 0.  7. 14. 21.]\n"
     ]
    }
   ],
   "source": [
    "# arange and linspace: \n",
    "# arange(): When we want to get an array with values within a defined range, we could use arange. \n",
    "#           The arguement to arange() are the starting value, ending value and steps \n",
    "# linspace(): Unlike arange, linspace() generates an array with evenlly spaced values oer specifc intervals\n",
    "\n",
    "arange = np.arange(0, 11, 2)    # Here, the third value in the arguement indicates step count\n",
    "print(arange)\n",
    "print()\n",
    "linspace = np.linspace(0,21, 4) # here the third arguement indicates the number of evenly distributed values \n",
    "print(linspace)"
   ]
  },
  {
   "cell_type": "code",
   "execution_count": 191,
   "metadata": {},
   "outputs": [
    {
     "name": "stdout",
     "output_type": "stream",
     "text": [
      "[ 6  7  8  9 10]\n",
      "[-4 -3 -2 -1  0]\n",
      "[ 5 10 15 20 25]\n",
      "[0.2 0.4 0.6 0.8 1. ]\n",
      "[1 2 3 4 0]\n"
     ]
    }
   ],
   "source": [
    "# Mathematical operations in array: Doing mathematical operations in array is quite different when compared with lists\n",
    "# When we perform any operation on a list with a scaler the result is either an extension of the list or an exeption\n",
    "# Whn a mathematical operation is performed on an array, it acts as a vector and operations are performed on each element in the vector.\n",
    "\n",
    "# Array addition\n",
    "print(arr+5)\n",
    "print(arr-5)\n",
    "print(arr*5)\n",
    "print(arr/5)\n",
    "print(arr%5)"
   ]
  },
  {
   "cell_type": "code",
   "execution_count": 192,
   "metadata": {},
   "outputs": [
    {
     "name": "stdout",
     "output_type": "stream",
     "text": [
      "[1 2 3 4 5 6 7 8]\n"
     ]
    }
   ],
   "source": [
    "# Array methods\n",
    "\n",
    "# Adding/appending elements in an existing array using np.append() method. This operation adds any value from the end of the array.\n",
    "arr = np.append(arr, [6,7,8])\n",
    "print(arr)"
   ]
  },
  {
   "cell_type": "code",
   "execution_count": 193,
   "metadata": {},
   "outputs": [
    {
     "name": "stdout",
     "output_type": "stream",
     "text": [
      "[1 2 3 4 1 5 6 7 8]\n"
     ]
    }
   ],
   "source": [
    "#Inserting element at a specific index using insert() method\n",
    "arr = np.insert(arr, 4, 1)\n",
    "print(arr)"
   ]
  },
  {
   "cell_type": "code",
   "execution_count": 194,
   "metadata": {},
   "outputs": [],
   "source": [
    "# Deleting elements from the array: This method requires three parameters, the arr, index of the element to be deleted and the axis.\n",
    "# The axis can be 0 for operation in rows and 1 is for opearation in columns.\n",
    "# If there are no element present at the specified index or axis, this method does not perform any ooperation.\n",
    "arr = np.delete(arr, 2, axis=0)"
   ]
  },
  {
   "cell_type": "code",
   "execution_count": 195,
   "metadata": {},
   "outputs": [
    {
     "data": {
      "text/plain": [
       "array([1, 2, 4, 1, 5, 6, 7, 8])"
      ]
     },
     "execution_count": 195,
     "metadata": {},
     "output_type": "execute_result"
    }
   ],
   "source": [
    "arr"
   ]
  },
  {
   "cell_type": "code",
   "execution_count": 196,
   "metadata": {},
   "outputs": [
    {
     "name": "stdout",
     "output_type": "stream",
     "text": [
      "[[[[1 1 1 1]\n",
      "   [2 2 2 2]\n",
      "   [3 3 3 3]]]\n",
      "\n",
      "\n",
      " [[[4 4 4 4]\n",
      "   [5 5 5 5]\n",
      "   [6 6 6 6]]]]\n",
      "\n",
      "\n",
      "Sum of the elements in the array:\n",
      " [[[ 4  8 12]]\n",
      "\n",
      " [[16 20 24]]]\n",
      "\n",
      "Mean of the elements in the array:\n",
      " [[[2. 2. 2. 2.]]\n",
      "\n",
      " [[5. 5. 5. 5.]]]\n",
      "Product of elements:\n",
      " [[[ 4  4  4  4]\n",
      "  [10 10 10 10]\n",
      "  [18 18 18 18]]]\n",
      "Minimum value in the array elements: [[[1 1 1 1]]\n",
      "\n",
      " [[4 4 4 4]]]\n",
      "Maximum value in the array elements: [[[3 3 3 3]]\n",
      "\n",
      " [[6 6 6 6]]]\n",
      "Median of the given array: 3.5\n",
      "Standard Deviation of the array elements: [[[0.81649658 0.81649658]]\n",
      "\n",
      " [[0.81649658 0.81649658]]\n",
      "\n",
      " [[0.81649658 0.81649658]]\n",
      "\n",
      " [[0.81649658 0.81649658]]]\n",
      "Variance of the array elements: [[[0.66666667 0.66666667]]\n",
      "\n",
      " [[0.66666667 0.66666667]]\n",
      "\n",
      " [[0.66666667 0.66666667]]\n",
      "\n",
      " [[0.66666667 0.66666667]]]\n",
      "Minimum values for subarrays:\n",
      " [[[0 0]]\n",
      "\n",
      " [[0 0]]\n",
      "\n",
      " [[0 0]]\n",
      "\n",
      " [[0 0]]]\n",
      "Maximum values for subarrays:\n",
      " [[[2 2]]\n",
      "\n",
      " [[2 2]]\n",
      "\n",
      " [[2 2]]\n",
      "\n",
      " [[2 2]]]\n"
     ]
    }
   ],
   "source": [
    "# Aggregating functions in numpy\n",
    "print(a_mul, end='\\n\\n\\n')\n",
    "# 1. Sum(): Returns the sum of array elements along the specidied axis (default is to flatten the array)\n",
    "print(\"Sum of the elements in the array:\\n\",np.sum(a_mul, axis=3), end='\\n\\n')\n",
    "\n",
    "# 2. Mean(): Retunrs the mean of array elements along an axis (default is to flatten the array)\n",
    "print(\"Mean of the elements in the array:\\n\",np.mean(a_mul, axis=2))\n",
    "\n",
    "# 3. Product(): Return the Product of array elements along a specified axis\n",
    "print(\"Product of elements:\\n\", np.prod(a_mul, axis=0))\n",
    "\n",
    "# 4. Minimum: Returns a minimum value from the array elements\n",
    "print(\"Minimum value in the array elements:\", np.min(a_mul, axis=2))\n",
    "\n",
    "# 5. Maximum: Returns a maximum value from the array elements\n",
    "print(\"Maximum value in the array elements:\", np.max(a_mul, axis=2))\n",
    "\n",
    "# Median: Returns the median value of the array\n",
    "print(\"Median of the given array:\",np.median(a_mul))\n",
    "\n",
    "# Standard Deviation: Returns the standard deviation of array elements along a specified axis \n",
    "print(\"Standard Deviation of the array elements:\",np.std(a_mul.T, axis=1))\n",
    "\n",
    "# Variance: Returns the variance of array elements along a specified axis.\n",
    "print(\"Variance of the array elements:\",np.var(a_mul.T, axis=1))\n",
    "\n",
    "# Argmin: Returns the indices of the minimum values along a specified axis.\n",
    "print(\"Minimum values for subarrays:\\n\",np.argmin(a_mul.T, axis=1))\n",
    "\n",
    "# Argmax: Returns the indices of the maximum values along a specified axis.\n",
    "print(\"Maximum values for subarrays:\\n\",np.argmax(a_mul.T, axis=1))"
   ]
  },
  {
   "cell_type": "markdown",
   "metadata": {},
   "source": [
    "# Pandas"
   ]
  },
  {
   "cell_type": "code",
   "execution_count": 197,
   "metadata": {},
   "outputs": [],
   "source": [
    "import pandas as pd"
   ]
  },
  {
   "cell_type": "code",
   "execution_count": 198,
   "metadata": {},
   "outputs": [
    {
     "data": {
      "text/html": [
       "<div>\n",
       "<style scoped>\n",
       "    .dataframe tbody tr th:only-of-type {\n",
       "        vertical-align: middle;\n",
       "    }\n",
       "\n",
       "    .dataframe tbody tr th {\n",
       "        vertical-align: top;\n",
       "    }\n",
       "\n",
       "    .dataframe thead th {\n",
       "        text-align: right;\n",
       "    }\n",
       "</style>\n",
       "<table border=\"1\" class=\"dataframe\">\n",
       "  <thead>\n",
       "    <tr style=\"text-align: right;\">\n",
       "      <th></th>\n",
       "      <th>S</th>\n",
       "      <th>B</th>\n",
       "      <th>C</th>\n",
       "    </tr>\n",
       "  </thead>\n",
       "  <tbody>\n",
       "    <tr>\n",
       "      <th>0</th>\n",
       "      <td>24</td>\n",
       "      <td>31</td>\n",
       "      <td>32</td>\n",
       "    </tr>\n",
       "    <tr>\n",
       "      <th>1</th>\n",
       "      <td>23</td>\n",
       "      <td>65</td>\n",
       "      <td>32</td>\n",
       "    </tr>\n",
       "    <tr>\n",
       "      <th>2</th>\n",
       "      <td>73</td>\n",
       "      <td>15</td>\n",
       "      <td>86</td>\n",
       "    </tr>\n",
       "  </tbody>\n",
       "</table>\n",
       "</div>"
      ],
      "text/plain": [
       "    S   B   C\n",
       "0  24  31  32\n",
       "1  23  65  32\n",
       "2  73  15  86"
      ]
     },
     "execution_count": 198,
     "metadata": {},
     "output_type": "execute_result"
    }
   ],
   "source": [
    "# Dataframe: It is a type of table with functionalities to work with different types of data like csv, spreadsheets, etc.\n",
    "data = pd.DataFrame([[24,31,32],[23,65,32],[73,15,86]], columns=['S', 'B', 'C'])\n",
    "data.head()"
   ]
  },
  {
   "cell_type": "code",
   "execution_count": 199,
   "metadata": {},
   "outputs": [
    {
     "data": {
      "text/html": [
       "<div>\n",
       "<style scoped>\n",
       "    .dataframe tbody tr th:only-of-type {\n",
       "        vertical-align: middle;\n",
       "    }\n",
       "\n",
       "    .dataframe tbody tr th {\n",
       "        vertical-align: top;\n",
       "    }\n",
       "\n",
       "    .dataframe thead th {\n",
       "        text-align: right;\n",
       "    }\n",
       "</style>\n",
       "<table border=\"1\" class=\"dataframe\">\n",
       "  <thead>\n",
       "    <tr style=\"text-align: right;\">\n",
       "      <th></th>\n",
       "      <th>S</th>\n",
       "      <th>B</th>\n",
       "      <th>C</th>\n",
       "    </tr>\n",
       "  </thead>\n",
       "  <tbody>\n",
       "    <tr>\n",
       "      <th>1</th>\n",
       "      <td>23</td>\n",
       "      <td>65</td>\n",
       "      <td>32</td>\n",
       "    </tr>\n",
       "    <tr>\n",
       "      <th>2</th>\n",
       "      <td>73</td>\n",
       "      <td>15</td>\n",
       "      <td>86</td>\n",
       "    </tr>\n",
       "  </tbody>\n",
       "</table>\n",
       "</div>"
      ],
      "text/plain": [
       "    S   B   C\n",
       "1  23  65  32\n",
       "2  73  15  86"
      ]
     },
     "execution_count": 199,
     "metadata": {},
     "output_type": "execute_result"
    }
   ],
   "source": [
    "data.loc[list(data[data['B']%5==0].index)]"
   ]
  },
  {
   "cell_type": "code",
   "execution_count": 200,
   "metadata": {},
   "outputs": [],
   "source": [
    "greatest_of_three = lambda row: row.iloc[0] if row.iloc[0] >= row.iloc[1] and row.iloc[0] >= row.iloc[2] else (row.iloc[1] if row.iloc[1] >= row.iloc[2] else row.iloc[2])"
   ]
  },
  {
   "cell_type": "code",
   "execution_count": 202,
   "metadata": {},
   "outputs": [
    {
     "data": {
      "text/html": [
       "<div>\n",
       "<style scoped>\n",
       "    .dataframe tbody tr th:only-of-type {\n",
       "        vertical-align: middle;\n",
       "    }\n",
       "\n",
       "    .dataframe tbody tr th {\n",
       "        vertical-align: top;\n",
       "    }\n",
       "\n",
       "    .dataframe thead th {\n",
       "        text-align: right;\n",
       "    }\n",
       "</style>\n",
       "<table border=\"1\" class=\"dataframe\">\n",
       "  <thead>\n",
       "    <tr style=\"text-align: right;\">\n",
       "      <th></th>\n",
       "      <th>S</th>\n",
       "      <th>B</th>\n",
       "      <th>C</th>\n",
       "      <th>greatest_number</th>\n",
       "    </tr>\n",
       "  </thead>\n",
       "  <tbody>\n",
       "    <tr>\n",
       "      <th>0</th>\n",
       "      <td>24</td>\n",
       "      <td>31</td>\n",
       "      <td>32</td>\n",
       "      <td>32</td>\n",
       "    </tr>\n",
       "    <tr>\n",
       "      <th>1</th>\n",
       "      <td>23</td>\n",
       "      <td>65</td>\n",
       "      <td>32</td>\n",
       "      <td>65</td>\n",
       "    </tr>\n",
       "    <tr>\n",
       "      <th>2</th>\n",
       "      <td>73</td>\n",
       "      <td>15</td>\n",
       "      <td>86</td>\n",
       "      <td>86</td>\n",
       "    </tr>\n",
       "  </tbody>\n",
       "</table>\n",
       "</div>"
      ],
      "text/plain": [
       "    S   B   C  greatest_number\n",
       "0  24  31  32               32\n",
       "1  23  65  32               65\n",
       "2  73  15  86               86"
      ]
     },
     "execution_count": 202,
     "metadata": {},
     "output_type": "execute_result"
    }
   ],
   "source": [
    "# apply a function/lambda function over dataset\n",
    "data[\"greatest_number\"] = data.apply(greatest_of_three, axis=1)\n",
    "data.head()"
   ]
  },
  {
   "cell_type": "code",
   "execution_count": 204,
   "metadata": {},
   "outputs": [
    {
     "data": {
      "text/plain": [
       "0    32\n",
       "1    65\n",
       "2    86\n",
       "Name: greatest_number, dtype: int64"
      ]
     },
     "execution_count": 204,
     "metadata": {},
     "output_type": "execute_result"
    }
   ],
   "source": [
    "data['greatest_number'].interpolate()"
   ]
  },
  {
   "cell_type": "code",
   "execution_count": null,
   "metadata": {},
   "outputs": [],
   "source": []
  }
 ],
 "metadata": {
  "kernelspec": {
   "display_name": "Python 3",
   "language": "python",
   "name": "python3"
  },
  "language_info": {
   "codemirror_mode": {
    "name": "ipython",
    "version": 3
   },
   "file_extension": ".py",
   "mimetype": "text/x-python",
   "name": "python",
   "nbconvert_exporter": "python",
   "pygments_lexer": "ipython3",
   "version": "3.11.9"
  }
 },
 "nbformat": 4,
 "nbformat_minor": 2
}
