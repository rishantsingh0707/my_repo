{
 "cells": [
  {
   "cell_type": "markdown",
   "metadata": {},
   "source": [
    "#### Pattern problems"
   ]
  },
  {
   "cell_type": "code",
   "execution_count": 25,
   "metadata": {},
   "outputs": [
    {
     "name": "stdout",
     "output_type": "stream",
     "text": [
      " * \n",
      " *  * \n",
      " *  *  * \n",
      " *  *  *  * \n",
      " *  *  *  *  * \n"
     ]
    }
   ],
   "source": [
    "# Half pyramid problem\n",
    "n = 5\n",
    "for i in range(1, n+1):\n",
    "    for k in range(1, i+1):\n",
    "        print(\" * \", end=\"\")\n",
    "    print( )"
   ]
  },
  {
   "cell_type": "code",
   "execution_count": 4,
   "metadata": {},
   "outputs": [
    {
     "name": "stdout",
     "output_type": "stream",
     "text": [
      "      * \n",
      "     * * \n",
      "    * * * \n",
      "   * * * * \n",
      "  * * * * * \n"
     ]
    }
   ],
   "source": [
    "# Full pyramid pattern\n",
    "n = 5\n",
    "for i in range(1, n+1):\n",
    "    # for j in range(n-i):\n",
    "    print(\" \"*(n-i), end=\"  \")\n",
    "    for k in range(1, i+1):\n",
    "        print(\"*\", end=\" \")\n",
    "    print(\"\\r\")"
   ]
  },
  {
   "cell_type": "code",
   "execution_count": 17,
   "metadata": {},
   "outputs": [
    {
     "name": "stdout",
     "output_type": "stream",
     "text": [
      "         *  \n",
      "\n",
      "     *   *   *  \n",
      "\n",
      " *   *   *   *   *  \n",
      "\n"
     ]
    }
   ],
   "source": [
    "# Pyramid of odd number rows\n",
    "n = 4\n",
    "for i in range(n+1):\n",
    "    if i % 2 == 0:\n",
    "        for j in range(1, (n+1)-i):\n",
    "            print(\"\", end=\"  \")\n",
    "        for k in range(i+1):\n",
    "            print(\" * \", end=\" \")\n",
    "        print(\"\\n\")"
   ]
  },
  {
   "cell_type": "code",
   "execution_count": 19,
   "metadata": {},
   "outputs": [
    {
     "name": "stdout",
     "output_type": "stream",
     "text": [
      "      A \n",
      "     A B \n",
      "    A B C \n",
      "   A B C D \n",
      "  A B C D E \n"
     ]
    }
   ],
   "source": [
    "# Pyramid pattern using alphabets\n",
    "n = 5\n",
    "alpha = 65\n",
    "for i in range(n):\n",
    "    print(\" \" * (n-i), end=\" \")\n",
    "    for j in range(i+1):\n",
    "        print(chr(alpha), end=\" \")\n",
    "        alpha += 1\n",
    "    alpha = 65\n",
    "    print(\"\\r\")"
   ]
  },
  {
   "cell_type": "code",
   "execution_count": 40,
   "metadata": {},
   "outputs": [
    {
     "name": "stdout",
     "output_type": "stream",
     "text": [
      "  *   *   *   *   *  \n",
      "    *   *   *   *  \n",
      "      *   *   *  \n",
      "        *   *  \n",
      "          *  \n",
      "           \n"
     ]
    }
   ],
   "source": [
    "# Inverted pyramid pattern\n",
    "n = 5\n",
    "for i in range(n+1, 0, -1):\n",
    "    print(\"  \"*((n-i)+1), end=\" \")\n",
    "    for k in range(i-1):\n",
    "        print(\" * \", end=\" \")\n",
    "    print(\"\\r\")\n",
    "    "
   ]
  },
  {
   "cell_type": "code",
   "execution_count": 165,
   "metadata": {},
   "outputs": [
    {
     "name": "stdout",
     "output_type": "stream",
     "text": [
      "    1 \n",
      "   2 2 \n",
      "  3 3 3 \n",
      " 4 4 4 4 \n",
      "5 5 5 5 5 \n"
     ]
    }
   ],
   "source": [
    "# NUmerical pattern pyramid: Same number in a row\n",
    "n = 5\n",
    "for i in range(1, n+1):\n",
    "    print(\" \"*(n-i), end=\"\")\n",
    "    for j in range(1, i+1):\n",
    "        print(i,end=\" \")\n",
    "    print(\"\\r\")"
   ]
  },
  {
   "cell_type": "code",
   "execution_count": 40,
   "metadata": {},
   "outputs": [
    {
     "name": "stdout",
     "output_type": "stream",
     "text": [
      "| *\n",
      "|   *\n",
      "|     *\n",
      "|   *\n",
      "| *\n",
      "|   *\n",
      "|     *\n",
      "|   *\n",
      "| *\n",
      "|   *\n",
      "|     *\n",
      "|   *\n",
      "| *\n",
      "|   *\n",
      "|     *\n",
      "|   *\n",
      "| *\n",
      "|   *\n",
      "|     *\n",
      "|   *\n",
      "| *\n",
      "|   *\n",
      "|     *\n",
      "|   *\n",
      "| *\n"
     ]
    }
   ],
   "source": [
    "length = 25\n",
    "\n",
    "left = 1\n",
    "for i in range(length):\n",
    "    print(\"|\", end=\" \")\n",
    "    if i%2==0 and left == 1:\n",
    "        print(\"*\")\n",
    "        left = 0\n",
    "    elif i%2==0 and left == 0:\n",
    "        print(\"  \"*2+\"*\")\n",
    "        left = 1\n",
    "    elif i%2!=0:\n",
    "        print(\"  \"+\"*\")"
   ]
  },
  {
   "cell_type": "markdown",
   "metadata": {},
   "source": [
    "#### Addition of two numbers"
   ]
  },
  {
   "cell_type": "code",
   "execution_count": null,
   "metadata": {},
   "outputs": [],
   "source": [
    "# Addition of two numbers\n",
    "\n",
    "num_1 = int(input(\"Enter the first number\"))\n",
    "num_2 = int(input(\"Enter the second number\"))\n",
    "\n",
    "print(\"Sum of two numbers is: \", num_1+num_2)"
   ]
  },
  {
   "cell_type": "markdown",
   "metadata": {},
   "source": [
    "#### Even or odd number"
   ]
  },
  {
   "cell_type": "code",
   "execution_count": null,
   "metadata": {},
   "outputs": [
    {
     "name": "stdout",
     "output_type": "stream",
     "text": [
      "The number 4 is an even number\n"
     ]
    }
   ],
   "source": [
    "# Check whether a number is an even or odd number\n",
    "\n",
    "number1 = int(input(\"ENter an integer number\"))\n",
    "\n",
    "if number1%2==0:\n",
    "    print(f\"The number {number1} is an even number\")\n",
    "else: \n",
    "    print(f\"The number {number1} is an odd number\")"
   ]
  },
  {
   "cell_type": "markdown",
   "metadata": {},
   "source": [
    "#### Maximum of three numbers"
   ]
  },
  {
   "cell_type": "code",
   "execution_count": null,
   "metadata": {},
   "outputs": [
    {
     "name": "stdout",
     "output_type": "stream",
     "text": [
      "Number: 8 is the greatest number\n"
     ]
    }
   ],
   "source": [
    "# Comparing maximum of the three number\n",
    "\n",
    "num1 = int(input(\"Enter the first number\"))\n",
    "num2 = int(input(\"Enter the second number\"))\n",
    "num3 = int(input(\"Enter the third number\"))\n",
    "\n",
    "if num1>num2 and num1>num3:\n",
    "    print(f\"Number:{num1} is the greatest number\")\n",
    "elif num2>num3:\n",
    "    print(f\"Number: {num2} is the greatest number\")\n",
    "else:\n",
    "    print(f\"Number: {num3} is the greatest number\")"
   ]
  },
  {
   "cell_type": "markdown",
   "metadata": {},
   "source": [
    "#### Leap year problem"
   ]
  },
  {
   "cell_type": "code",
   "execution_count": null,
   "metadata": {},
   "outputs": [
    {
     "name": "stdout",
     "output_type": "stream",
     "text": [
      "Your entered year:  2014\n",
      "The year is not a leap year\n"
     ]
    }
   ],
   "source": [
    "# Cheack if the entered year is a leap year\n",
    "\n",
    "year = int(input(\"Enter a year\"))\n",
    "print(\"Your entered year: \", year)\n",
    "if year%400==0 and year%100==0:\n",
    "    print(\"The year entered is a leap year and a century year\")\n",
    "elif year%100==0:\n",
    "    print(\"The year entered is a century year\")\n",
    "elif year%4==0:\n",
    "    print(\"The year entered is a leap year\")\n",
    "else:\n",
    "    print(\"The year is not a leap year\")"
   ]
  },
  {
   "cell_type": "markdown",
   "metadata": {},
   "source": [
    "#### Count of vowel in a string"
   ]
  },
  {
   "cell_type": "code",
   "execution_count": null,
   "metadata": {},
   "outputs": [
    {
     "name": "stdout",
     "output_type": "stream",
     "text": [
      "{'a': 1, 'e': 1, 'i': 1, 'o': 1, 'u': 1}\n"
     ]
    }
   ],
   "source": [
    "# Count the occeurance of vowel in a steing\n",
    "\n",
    "count = {}\n",
    "vowel = [\"a\",\"e\",\"i\",\"o\",\"u\"]\n",
    "string = input(\"ENter a string\")\n",
    "for char in string.lower():\n",
    "    if char in vowel:\n",
    "        count[char] = count.get(char,0)+1\n",
    "print(count)"
   ]
  },
  {
   "cell_type": "markdown",
   "metadata": {},
   "source": [
    "#### Sum of positive elements in a list"
   ]
  },
  {
   "cell_type": "code",
   "execution_count": null,
   "metadata": {},
   "outputs": [
    {
     "name": "stdout",
     "output_type": "stream",
     "text": [
      "[3, 5, 9, -5, -2, 6]\n",
      "23\n"
     ]
    }
   ],
   "source": [
    "# Sum of all positve elements in a list\n",
    "\n",
    "num_list = list(map(int, input(\"Enter a numerical list with a space\").split()))\n",
    "temp = 0\n",
    "for ele in num_list:\n",
    "    if ele>0:\n",
    "        temp+=ele\n",
    "print(num_list)\n",
    "print(temp)"
   ]
  },
  {
   "cell_type": "markdown",
   "metadata": {},
   "source": [
    "#### Occurance of each word in a string"
   ]
  },
  {
   "cell_type": "code",
   "execution_count": null,
   "metadata": {},
   "outputs": [
    {
     "name": "stdout",
     "output_type": "stream",
     "text": [
      "{'inp_str': 1, '=': 6, 'input(\"enter': 1, 'a': 1, 'string\"': 1, 'punctuations': 1, '\"!@#$%^&*()<>?:|,./;\\'\"': 1, 'words': 2, '[word.strip(punctuations': 1, 'for': 3, 'word': 3, 'in': 4, 'inp_str.lower().split()]': 1, 'count_dict': 1, '{}': 1, 'key': 1, 'val': 1, 'count_dict.items': 1, 'if': 1, 'count_dict[key]': 2, 'count_dict[val]+1': 1, 'else': 1, 'count_dict[word]': 1, 'count_dict.get(1': 1, 'print(count_dict': 1}\n"
     ]
    }
   ],
   "source": [
    "# Count the occurrences of each word in a string\n",
    "\n",
    "inp_str = input(\"Enter a string\")\n",
    "punctuations = \"!@#$%^&*()<>?:|,./;='\"\n",
    "words = [word.strip(punctuations) for word in inp_str.lower().split()]\n",
    "count_dict = {}\n",
    "for word in words:\n",
    "    count_dict[word] = count_dict.get(word, 0) + 1\n",
    "print(count_dict)"
   ]
  },
  {
   "cell_type": "markdown",
   "metadata": {},
   "source": [
    "#### Average of all positive number"
   ]
  },
  {
   "cell_type": "code",
   "execution_count": null,
   "metadata": {},
   "outputs": [
    {
     "name": "stdout",
     "output_type": "stream",
     "text": [
      "Average of all positive integers: 6.25\n"
     ]
    }
   ],
   "source": [
    "# 13/01/2024\n",
    "# Average of all positive numbers\n",
    "\n",
    "num_list = list(map(int, input(\"Enter numbers with space between them\").split()))\n",
    "\n",
    "temp = 0\n",
    "positive_count = 0\n",
    "for num in num_list:\n",
    "    if num>0:\n",
    "        temp += num\n",
    "        positive_count += 1\n",
    "if positive_count==0:\n",
    "    print(\"No positve number\")\n",
    "else:\n",
    "    print(f\"Average of all positive integers: {temp/positive_count}\")"
   ]
  },
  {
   "cell_type": "markdown",
   "metadata": {},
   "source": [
    "#### Fibonacci series "
   ]
  },
  {
   "cell_type": "code",
   "execution_count": 8,
   "metadata": {},
   "outputs": [
    {
     "name": "stdout",
     "output_type": "stream",
     "text": [
      "Fibonacci series: \n",
      "0 1 1 2 3 5 "
     ]
    }
   ],
   "source": [
    "input_number = int(input(\"Enter a number: \"))\n",
    "\n",
    "n1 = 0\n",
    "n2 = 1\n",
    "\n",
    "if input_number <= 0:\n",
    "    print(\"Enter a valid positive number\")\n",
    "elif input_number == 1:\n",
    "    print(\"Fibonacci series of the entered nunmber is:\", n1)\n",
    "else:\n",
    "    print(\"Fibonacci series: \")\n",
    "    for i in range(input_number):\n",
    "        print(n1, end=\" \")\n",
    "        temp = n1\n",
    "        n1 = n2\n",
    "        n2 = temp + n2"
   ]
  },
  {
   "cell_type": "markdown",
   "metadata": {},
   "source": [
    "#### Common list between two list"
   ]
  },
  {
   "cell_type": "code",
   "execution_count": null,
   "metadata": {},
   "outputs": [
    {
     "name": "stdout",
     "output_type": "stream",
     "text": [
      "Common elements are: [3, 4] "
     ]
    }
   ],
   "source": [
    "# Common list between two list\n",
    "\n",
    "list1 = list(map(int, input(\"Enter the first list with a space between numbers\").split()))\n",
    "list2 = list(map(int, input(\"Enter the second list with a space between numbers\").split()))\n",
    "\n",
    "common_list = list(set(list1) & set(list2))\n",
    "\n",
    "if not common_list:\n",
    "    print(\"No common element in two list\")\n",
    "else:\n",
    "    print(f\"Common elements are: {common_list}\",end=\" \")\n"
   ]
  },
  {
   "cell_type": "markdown",
   "metadata": {},
   "source": [
    "#### Palindrome of a string"
   ]
  },
  {
   "cell_type": "code",
   "execution_count": null,
   "metadata": {},
   "outputs": [
    {
     "name": "stdout",
     "output_type": "stream",
     "text": [
      "THe sentence is not a palindrome\n"
     ]
    }
   ],
   "source": [
    "# Palindrome of a string\n",
    "\n",
    "sentence = input(\"Enter a string to check if it's a palindrome\")\n",
    "punctuations = \"!@#$%^&*()<>?:|,./;='\"\n",
    "\n",
    "words = [word.strip(punctuations) for word in sentence.lower().split()]\n",
    "\n",
    "new_sentence = \"\".join(words)\n",
    "if new_sentence == new_sentence[::-1]:\n",
    "    print(\"The sentence is a Palindrome\")\n",
    "else: \n",
    "    print(\"THe sentence is not a palindrome\")"
   ]
  },
  {
   "cell_type": "markdown",
   "metadata": {},
   "source": [
    "#### Prime number upto the specified number"
   ]
  },
  {
   "cell_type": "code",
   "execution_count": null,
   "metadata": {},
   "outputs": [
    {
     "name": "stdout",
     "output_type": "stream",
     "text": [
      "[2, 3, 11, 13, 17, 19, 23, 25]\n"
     ]
    }
   ],
   "source": [
    "# Prime number upto the number limit\n",
    "\n",
    "import math\n",
    "n_ = int(input(\"Enter a number to find a prime number upto that number\"))\n",
    "\n",
    "def is_prime(number_):\n",
    "    # If number is smaller than 2 return false\n",
    "    if number_<2:\n",
    "        return False\n",
    "    # If number is 2 or 3 return True\n",
    "    if number_==2 or number_==3:\n",
    "        return True\n",
    "    if number_%2==0 or number_%3==0:\n",
    "        return False\n",
    "    for i in range(2, int(math.sqrt(number_))): \n",
    "        # since prime numbers are only divisible by one and itself which are only two numbers, \n",
    "        # if the number is is excessively divisible by any third or greater number then the number is not a prime number\n",
    "        if number_ % i == 0 :\n",
    "            return False\n",
    "        return True\n",
    "\n",
    "prime_number = [num for num in range(2, n_+1) if is_prime(num)]\n",
    "print(prime_number)"
   ]
  },
  {
   "cell_type": "markdown",
   "metadata": {},
   "source": [
    "#### Factorial of a number"
   ]
  },
  {
   "cell_type": "code",
   "execution_count": null,
   "metadata": {},
   "outputs": [
    {
     "name": "stdout",
     "output_type": "stream",
     "text": [
      "Factorial of 4 is 24\n"
     ]
    }
   ],
   "source": [
    "# Factorial of a number\n",
    "\n",
    "fac = int(input(\"Enter a number to find the factorial\"))\n",
    "factorial = 1\n",
    "if fac<0:\n",
    "    print(\"Enter a valid positive number\")\n",
    "else:\n",
    "    for i in range(1, fac+1): \n",
    "        factorial = factorial*i\n",
    "\n",
    "print(f\"Factorial of {fac} is {factorial}\")"
   ]
  },
  {
   "cell_type": "markdown",
   "metadata": {},
   "source": [
    "#### Find if the number is a perfect number\n",
    "Perfect numbers are positive integers that are equal to the sum of their proper divisors <br>\n",
    "Approach:\n",
    "<li>Initialize a variable \"divisor\" with 0</li>\n",
    "<li>divide the input number with numbers that are upto half of the input number i.e, number/ i where i in (number/2)+1</li>\n",
    "<li>if number%i==0 then add the divisor with i </li>\n",
    "<li>When the loop ends, if the value of sum of all the divisor equals the number, then return True else return False</li>"
   ]
  },
  {
   "cell_type": "code",
   "execution_count": 50,
   "metadata": {},
   "outputs": [
    {
     "name": "stdout",
     "output_type": "stream",
     "text": [
      "9 is not a perfect number\n"
     ]
    }
   ],
   "source": [
    "# Find if the number is a perfect number\n",
    "\n",
    "def is_perfect_number(number):\n",
    "    divisor = 0\n",
    "    for i in range(1, int((number/2))+1):\n",
    "        if number%i==0:\n",
    "            divisor+=i\n",
    "    if divisor == number:\n",
    "        return True\n",
    "    return False\n",
    "\n",
    "per_number = int(input(\"ENter a number to check if it is a prime number or not...\"))\n",
    "\n",
    "if is_perfect_number(per_number):\n",
    "    print(f\"{per_number} is a perfect number\")\n",
    "else:\n",
    "    print(f\"{per_number} is not a perfect number\")\n"
   ]
  },
  {
   "cell_type": "markdown",
   "metadata": {},
   "source": [
    "#### Pascel's triangle"
   ]
  },
  {
   "cell_type": "code",
   "execution_count": null,
   "metadata": {},
   "outputs": [
    {
     "name": "stdout",
     "output_type": "stream",
     "text": [
      "     1      \n",
      "    1 1     \n",
      "   1 2 1    \n",
      "  1 3 3 1   \n"
     ]
    }
   ],
   "source": [
    "# Pascal's triangle\n",
    "\n",
    "import math\n",
    "n = int(input(\"Enter the number of rows for Pascal's Triangle: \"))\n",
    "\n",
    "def pascal_triangle_(n):\n",
    "    triangle = []\n",
    "    for i in range(n):\n",
    "        row = [1] * (i + 1)\n",
    "        for j in range(1, i):\n",
    "            row[j] = triangle[i - 1][j - 1] + triangle[i - 1][j]\n",
    "        triangle.append(row)\n",
    "    return triangle\n",
    "\n",
    "def print_pascals_triangle(t):\n",
    "    for row in t:\n",
    "        print(\" \".join(map(str, row)).center(len(t)*3))\n",
    "\n",
    "print_pascals_triangle(pascal_triangle_(n))"
   ]
  },
  {
   "cell_type": "markdown",
   "metadata": {},
   "source": [
    "#### Sum of prime"
   ]
  },
  {
   "cell_type": "code",
   "execution_count": null,
   "metadata": {},
   "outputs": [
    {
     "name": "stdout",
     "output_type": "stream",
     "text": [
      "Sum of prime numbers up to 5 is 10\n"
     ]
    }
   ],
   "source": [
    "# Sum of prime\n",
    "\n",
    "import math\n",
    "\n",
    "def is_prime_(number):\n",
    "    if number < 2:\n",
    "        return False\n",
    "    if number in (2, 3):\n",
    "        return True\n",
    "    if number % 2 == 0 or number % 3 == 0:\n",
    "        return False\n",
    "    for i in range(5, int(math.sqrt(number)) + 1, 6):\n",
    "        if number % i == 0 or number % (i + 2) == 0:\n",
    "            return False\n",
    "    return True\n",
    "\n",
    "num4 = int(input(\"Enter a number: \"))    \n",
    "sum_of_prime = 0\n",
    "\n",
    "for j in range(2, num4 + 1):\n",
    "    if is_prime_(j):\n",
    "        sum_of_prime += j\n",
    "\n",
    "print(f\"Sum of prime numbers up to {num4} is {sum_of_prime}\")\n"
   ]
  },
  {
   "cell_type": "markdown",
   "metadata": {},
   "source": [
    "#### Greatest common divisible"
   ]
  },
  {
   "cell_type": "code",
   "execution_count": null,
   "metadata": {},
   "outputs": [
    {
     "name": "stdout",
     "output_type": "stream",
     "text": [
      "1\n"
     ]
    }
   ],
   "source": [
    "# Find gcd (Greatest common divisible)\n",
    "\n",
    "def find_gcd(num1, num2):\n",
    "    while num2:\n",
    "        num1,num2 = num2, num1%num2\n",
    "    return num1\n",
    "\n",
    "num_a = int(input(\"Enter the first number\"))\n",
    "num_b = int(input(\"Enter the second number\"))\n",
    "\n",
    "print(find_gcd(num_a, num_b))"
   ]
  },
  {
   "cell_type": "markdown",
   "metadata": {},
   "source": [
    "#### LCM of numbers"
   ]
  },
  {
   "cell_type": "code",
   "execution_count": null,
   "metadata": {},
   "outputs": [
    {
     "name": "stdout",
     "output_type": "stream",
     "text": [
      " LCM of GIven numbers: 12\n"
     ]
    }
   ],
   "source": [
    "# Find the lcm of two numbers\n",
    "input1 = int(input(\"Enter first number\"))\n",
    "input2 = int(input(\"Enter second number\"))\n",
    "print(f\" LCM of given numbers: {math.lcm(input1, input2)}\")"
   ]
  },
  {
   "cell_type": "markdown",
   "metadata": {},
   "source": [
    "## Dictionary problems"
   ]
  },
  {
   "cell_type": "markdown",
   "metadata": {},
   "source": [
    "#### Sorting the dictionary in ascending and descending order using the values of the dictionary"
   ]
  },
  {
   "cell_type": "code",
   "execution_count": null,
   "metadata": {},
   "outputs": [
    {
     "name": "stdout",
     "output_type": "stream",
     "text": [
      "Sortd list in ascending order by values: {'banana': 20, 'cherry': 25, 'apple': 30, 'date': 35}\n",
      "Sortd list in descending order by values: {'date': 35, 'apple': 30, 'cherry': 25, 'banana': 20}\n"
     ]
    }
   ],
   "source": [
    "my_dict = {\"apple\": 30, \"banana\": 20, \"cherry\": 25, \"date\": 35}\n",
    "\n",
    "# Sorting the dictionary in ascenting order based on the values of the dictionary\n",
    "ascend_dict = dict(sorted(my_dict.items(), key=lambda item: item[1]))\n",
    "print(f\"Sorted list in ascending order by values: {ascend_dict}\")\n",
    "\n",
    "# Sorting the dictionary in descending order based on the values of the dictionary\n",
    "descend_dict = dict(sorted(my_dict.items(), key=lambda item:item[1], reverse=True))\n",
    "print(f\"Sorted list in descending order by values: {descend_dict}\")"
   ]
  },
  {
   "cell_type": "markdown",
   "metadata": {},
   "source": [
    "## Array problems"
   ]
  },
  {
   "cell_type": "markdown",
   "metadata": {},
   "source": [
    "#### Product of numbers in an array"
   ]
  },
  {
   "cell_type": "code",
   "execution_count": null,
   "metadata": {},
   "outputs": [
    {
     "name": "stdout",
     "output_type": "stream",
     "text": [
      "Product of elements in the given list is: 120\n"
     ]
    }
   ],
   "source": [
    "# Product of numbers in a list\n",
    "\n",
    "def list_ele_product(list):\n",
    "    ele_product = 1\n",
    "    for ele in list:\n",
    "        ele_product = ele_product*ele\n",
    "    return ele_product\n",
    "\n",
    "ele_list = list(map(int, input(\"Enter a list of numbers with space between them\").split()))\n",
    "print(f\"Product of elements in the given list is: {list_ele_product(ele_list)}\")"
   ]
  },
  {
   "cell_type": "markdown",
   "metadata": {},
   "source": [
    "#### Check if two lists are equal"
   ]
  },
  {
   "cell_type": "code",
   "execution_count": null,
   "metadata": {},
   "outputs": [
    {
     "name": "stdout",
     "output_type": "stream",
     "text": [
      "The given lists are not equal\n"
     ]
    }
   ],
   "source": [
    "# Check if two lists are equal\n",
    "list1 = list(map(int, input(\"Enter first numerical list using space between them\").split()))\n",
    "list2 = list(map(int, input(\"Enter second numerical list using space between them\").split()))\n",
    "\n",
    "if list1 == list2:\n",
    "    print(\"The given lists are equal\")    \n",
    "else:\n",
    "    print(\"The given lists are not equal\")"
   ]
  },
  {
   "cell_type": "markdown",
   "metadata": {},
   "source": [
    "#### Remove duplicates from the list/array"
   ]
  },
  {
   "cell_type": "code",
   "execution_count": null,
   "metadata": {},
   "outputs": [
    {
     "name": "stdout",
     "output_type": "stream",
     "text": [
      "Unique elements in the given list [2, 3, 4, 5, 7, 23, 14]\n"
     ]
    }
   ],
   "source": [
    "# Remove duplicate elements from a list\n",
    "\n",
    "dup = list(map(int, input(\"Enter a numerical list seperated by space\").split()))\n",
    "\n",
    "# Approach 1:\n",
    "#   Converting the list to set\n",
    "\"\"\"print(\"Unique list after removing duplicates: \", list(set(dup)))\"\"\"\n",
    "\n",
    "# Approach 2\n",
    "#   Using loops to remove them\n",
    "unique_list = []\n",
    "\n",
    "for ele in dup:\n",
    "    if ele not in unique_list:\n",
    "        unique_list.append(ele)\n",
    "\n",
    "print(\"Unique elements in the given list\", unique_list)"
   ]
  },
  {
   "cell_type": "markdown",
   "metadata": {},
   "source": [
    "#### Count duplicate elements in the list/array"
   ]
  },
  {
   "cell_type": "code",
   "execution_count": null,
   "metadata": {},
   "outputs": [
    {
     "name": "stdout",
     "output_type": "stream",
     "text": [
      "Element Count \n",
      "1: 1\n",
      "2: 2\n",
      "3: 2\n",
      "4: 2\n",
      "5: 1\n",
      "6: 1\n",
      "7: 2\n",
      "8: 1\n",
      "9: 1\n",
      "10: 1\n"
     ]
    }
   ],
   "source": [
    "# Count duplicate elements in a list\n",
    "duplicate = list(map(int, input(\"Enter the list to count the occurance of element in the list\").split()))\n",
    "element_count = {}\n",
    "for ele in duplicate:\n",
    "    if ele in element_count:\n",
    "        element_count[ele] += 1\n",
    "    else:\n",
    "        element_count[ele] = 1\n",
    "\n",
    "print(\"Element Count \")\n",
    "for ele, count in element_count.items():\n",
    "    print(f\"{ele}: {count}\")"
   ]
  },
  {
   "cell_type": "markdown",
   "metadata": {},
   "source": [
    "#### Maximum and minimum number in an array"
   ]
  },
  {
   "cell_type": "code",
   "execution_count": null,
   "metadata": {},
   "outputs": [
    {
     "name": "stdout",
     "output_type": "stream",
     "text": [
      "Minimum and Maximum elements of the list are 12, 43 respectively\n"
     ]
    }
   ],
   "source": [
    "# Find the maximum and minimum number in a array\n",
    "\n",
    "# Approach 1\n",
    "array = list(map(int, input(\"Enter a numerical list with a space between them \").split()))\n",
    "min_ = float('inf')\n",
    "max_ = float('-inf')\n",
    "for ele in array:\n",
    "    if ele<min_:\n",
    "        min_ = ele\n",
    "    if ele>max_:\n",
    "        max_ = ele\n",
    "\n",
    "print(f\"Minimum and Maximum elements of the list are {min_}, {max_} respectively\")"
   ]
  },
  {
   "cell_type": "code",
   "execution_count": null,
   "metadata": {},
   "outputs": [
    {
     "name": "stdout",
     "output_type": "stream",
     "text": [
      "Minimum number is: 12 and maximum number is: 54\n"
     ]
    }
   ],
   "source": [
    "# Approach 2\n",
    "\n",
    "arr = list(map(int, input(\"Enter a list of numbers with space between them\").split()))\n",
    "\n",
    "arr.sort()\n",
    "min_num = arr[0]\n",
    "max_num = arr[-1]\n",
    "print(f\"Minimum element is: {min_num} and maximum element is: {max_num}\")\n"
   ]
  },
  {
   "cell_type": "markdown",
   "metadata": {},
   "source": [
    "#### kth minimum and maximum number"
   ]
  },
  {
   "cell_type": "code",
   "execution_count": null,
   "metadata": {},
   "outputs": [
    {
     "name": "stdout",
     "output_type": "stream",
     "text": [
      "Given input list is: [32, 51, 25, 18, 15, 45, 83]\n",
      "Given list after sorting is: [15, 18, 25, 32, 45, 51, 83]\n",
      "kth minimum and maximum are  (18, 51) respectively\n"
     ]
    }
   ],
   "source": [
    "# To find the kth minimum and kth maximum number in the list\n",
    "\n",
    "def kth_min_max(inp_array:list, kth_term):\n",
    "    print(f\"Given input list is: {inp_array}\")\n",
    "    inp_array.sort()\n",
    "    print(f\"Given list after sorting is: {inp_array}\")\n",
    "    k_min = inp_array[kth_term - 1]\n",
    "    k_max = inp_array[len(inp_array)-(kth_term)]\n",
    "    return k_min, k_max\n",
    "\n",
    "\n",
    "inp_arr = list(map(int, input(\"Enter a list of numbers with a space between them\").split()))\n",
    "k_term = int(input(\"Enter the kth term\"))\n",
    "\n",
    "print(\"kth minimum and maximum are \", kth_min_max(inp_arr,k_term), \"respectively\")"
   ]
  },
  {
   "cell_type": "markdown",
   "metadata": {},
   "source": [
    "#### Sum of all numbers in an array"
   ]
  },
  {
   "cell_type": "code",
   "execution_count": null,
   "metadata": {},
   "outputs": [
    {
     "name": "stdout",
     "output_type": "stream",
     "text": [
      "Sum of all elements in a list is  14\n"
     ]
    }
   ],
   "source": [
    "# 23/01/24\n",
    "# Sum of all elements in a list\n",
    "list3 = list(map(int, input(\"Enter a list of numbers with a space between them\").split()))\n",
    "sum_of_ele = sum(ele for ele in list3)\n",
    "print(\"Sum of all elements in a list is \", sum_of_ele)"
   ]
  },
  {
   "cell_type": "markdown",
   "metadata": {},
   "source": [
    "#### Union of arrays"
   ]
  },
  {
   "cell_type": "code",
   "execution_count": null,
   "metadata": {},
   "outputs": [
    {
     "name": "stdout",
     "output_type": "stream",
     "text": [
      "Union of two arrays is:  [1, 2, 3, 4, 5, 6, 7]\n"
     ]
    }
   ],
   "source": [
    "# Union of two arrays\n",
    "array1 = [1, 2, 3, 4, 5]\n",
    "array2 = [3, 4, 5, 6, 7]\n",
    "\n",
    "union = list(set(array1) | set(array2))\n",
    "print(\"Union of two arrays is: \", union)"
   ]
  },
  {
   "cell_type": "markdown",
   "metadata": {},
   "source": [
    "#### Intersection of arrays"
   ]
  },
  {
   "cell_type": "code",
   "execution_count": null,
   "metadata": {},
   "outputs": [
    {
     "name": "stdout",
     "output_type": "stream",
     "text": [
      "Union of two arrays is:  [3, 4, 5]\n"
     ]
    }
   ],
   "source": [
    "# Intersection of two arrays\n",
    "array1 = [1, 2, 3, 4, 5]\n",
    "array2 = [3, 4, 5, 6, 7]\n",
    "\n",
    "intersection = list(set(array1) & set(array2))\n",
    "print(\"Intersection of two arrays is: \", intersection)"
   ]
  },
  {
   "cell_type": "markdown",
   "metadata": {},
   "source": [
    "#### Difference of the arrays"
   ]
  },
  {
   "cell_type": "code",
   "execution_count": null,
   "metadata": {},
   "outputs": [
    {
     "name": "stdout",
     "output_type": "stream",
     "text": [
      "Union of two arrays is:  [1, 2]\n"
     ]
    }
   ],
   "source": [
    "# Difference of two arrays\n",
    "\n",
    "array1 = [1, 2, 3, 4, 5]\n",
    "array2 = [3, 4, 5, 6, 7]\n",
    "\n",
    "difference = list(set(array1) - set(array2))\n",
    "print(\"Difference of two arrays is: \", difference)"
   ]
  },
  {
   "cell_type": "markdown",
   "metadata": {},
   "source": [
    "#### Left shift of an array by \"k\" indexes"
   ]
  },
  {
   "cell_type": "code",
   "execution_count": null,
   "metadata": {},
   "outputs": [
    {
     "name": "stdout",
     "output_type": "stream",
     "text": [
      "Number of left shift position 3\n",
      "Rotated array: [4, 5, 1, 2, 3]\n"
     ]
    }
   ],
   "source": [
    "# Left shift an array by k position\n",
    "\n",
    "def left_shift(array, pos):\n",
    "    arr_len = len(array)\n",
    "    pos = pos % arr_len\n",
    "    print(\"Number of left shift position\",pos)\n",
    "    return array[pos:]+array[:pos]\n",
    "\n",
    "input_array = [1, 2, 3, 4, 5]\n",
    "rotation_count = 3\n",
    "result = left_shift(input_array, rotation_count)\n",
    "print(\"Rotated array:\", result)"
   ]
  },
  {
   "cell_type": "markdown",
   "metadata": {},
   "source": [
    "#### Check if the array is a palindrome"
   ]
  },
  {
   "cell_type": "code",
   "execution_count": null,
   "metadata": {},
   "outputs": [
    {
     "name": "stdout",
     "output_type": "stream",
     "text": [
      "Given array is not a Palindrome\n"
     ]
    }
   ],
   "source": [
    "# Check if aan array is a palindrome\n",
    "\n",
    "array2 = [3, 4, 5, 6, 7]\n",
    "reverse = array2[::-1]\n",
    "if array2==reverse:\n",
    "    print(\"Given array is a Palindrome\")\n",
    "else:\n",
    "    print(\"Given array is not a Palindrome\")"
   ]
  },
  {
   "cell_type": "markdown",
   "metadata": {},
   "source": [
    "#### \"k\"th largest number in an array"
   ]
  },
  {
   "cell_type": "code",
   "execution_count": null,
   "metadata": {},
   "outputs": [
    {
     "name": "stdout",
     "output_type": "stream",
     "text": [
      "kth maximum element in the array is  45\n"
     ]
    }
   ],
   "source": [
    "# kth largest element in the array\n",
    "arr = [32, 51, 25, 18, 15, 45, 83]\n",
    "k_pos = 3\n",
    "arr.sort()\n",
    "print(\"kth maximum element in the array is \", arr[len(arr)-k_pos])"
   ]
  },
  {
   "cell_type": "markdown",
   "metadata": {},
   "source": [
    "#### Product of first maximum and secod maximum"
   ]
  },
  {
   "cell_type": "code",
   "execution_count": null,
   "metadata": {},
   "outputs": [
    {
     "name": "stdout",
     "output_type": "stream",
     "text": [
      "Product of the first maximum 83 and the second maximum 51 elements is 4233\n"
     ]
    }
   ],
   "source": [
    "arr = [32, 51, 25, 18, 15, 45, 83]\n",
    "arr.sort()\n",
    "print(f\"Product of the first maximum {arr[-1]} and the second maximum {arr[-2]} elements is {arr[-1]*arr[-2]}\")"
   ]
  },
  {
   "cell_type": "markdown",
   "metadata": {},
   "source": [
    "#### 22/04/24\n",
    "#### Peak element in an array\n",
    "The condition in this problem is that the order of the elements in the array should strictly increase and then decrease after certain element"
   ]
  },
  {
   "cell_type": "code",
   "execution_count": 1,
   "metadata": {},
   "outputs": [
    {
     "name": "stdout",
     "output_type": "stream",
     "text": [
      "Peak element in the array:  35\n"
     ]
    }
   ],
   "source": [
    "def peak_element(arr, n):\n",
    "    # Handling case ofor single elment in the array\n",
    "    if n == 1:\n",
    "        return arr[0]\n",
    "    \n",
    "    # Handling case for two element\n",
    "    if arr[n-1] >= arr[n-2]:\n",
    "        return arr[n-1]\n",
    "\n",
    "    # If there are more than two elements in the array\n",
    "    \"Loop through the entire array and check if the current element is greater than the consecutive next and consecutive previous element\"\n",
    "    for i in range(1, n-1):\n",
    "        if arr[i]>arr[i-1] and arr[i]>arr[i+1]:\n",
    "            return arr[i]\n",
    "\n",
    "arr1 = [1,2,4,35,7,5]\n",
    "len_arr = len(arr1)\n",
    "peak_ele = peak_element(arr1, len_arr)\n",
    "print(\"Peak element in the array: \", peak_ele)"
   ]
  },
  {
   "cell_type": "markdown",
   "metadata": {},
   "source": [
    "#### Maximum and minimum of an array"
   ]
  },
  {
   "cell_type": "code",
   "execution_count": 29,
   "metadata": {},
   "outputs": [
    {
     "name": "stdout",
     "output_type": "stream",
     "text": [
      "Minimum element in the array is 1 and maximum element in the array is 35\n"
     ]
    }
   ],
   "source": [
    "arr.sort()\n",
    "min = arr[0]\n",
    "max = arr[-1]\n",
    "print(f\"Minimum element in the array is {min} and maximum element in the array is {max}\")"
   ]
  },
  {
   "cell_type": "markdown",
   "metadata": {},
   "source": [
    "#### Sorting algorithms\n",
    "We will look for 4 sorting algorithms\n",
    "1. Bubble sort\n",
    "2. Selection sort\n",
    "3. Merge sort\n",
    "4. Quick sort"
   ]
  },
  {
   "cell_type": "markdown",
   "metadata": {},
   "source": [
    "##### Bubble sort\n",
    "<ol>\n",
    "<li>Start the first loop to iterate over all the elements in the array</li>\n",
    "<li>In the second loop, iterate through the entire array from start till the second last element (i-1-_)</li>\n",
    "<li>Compare if the current element is larger than the next element</li>\n",
    "<li>If the current element is larger than the next element, swap both of the element</li>\n",
    "<li>This process continues until all the elements are sorted</li>\n",
    "</ol>"
   ]
  },
  {
   "cell_type": "code",
   "execution_count": 20,
   "metadata": {},
   "outputs": [
    {
     "name": "stdout",
     "output_type": "stream",
     "text": [
      "[0, 1, 3, 6, 8, 9]\n"
     ]
    }
   ],
   "source": [
    "arr = [6,3,8,1,9,0]\n",
    "len_arr = len(arr)\n",
    "for _ in range(len_arr):\n",
    "    for i in range(len_arr-1-_):\n",
    "        if arr[i]>arr[i+1]:\n",
    "            arr[i], arr[i+1] = arr[i+1], arr[i]\n",
    "print(arr)"
   ]
  },
  {
   "cell_type": "markdown",
   "metadata": {},
   "source": [
    "<h5>Selection sort</h5>\n",
    "<ol>\n",
    "<li>Choose a starting element in the array</li>\n",
    "<li>Loop through all the next elements to find the index of the smallest element</li>\n",
    "<li>If the smallest element is found, swap the element with the first element selected earlier for comparison</li>\n",
    "<li>This process continues until all the elements are sorted</li>\n",
    "</ol>"
   ]
  },
  {
   "cell_type": "code",
   "execution_count": 8,
   "metadata": {},
   "outputs": [
    {
     "data": {
      "text/plain": [
       "[3, 4, 5, 6, 7, 9]"
      ]
     },
     "execution_count": 8,
     "metadata": {},
     "output_type": "execute_result"
    }
   ],
   "source": [
    "new_arr = [5,7,4,6,3,9]\n",
    "for i in range(len(new_arr)):\n",
    "    min_index = i\n",
    "    for j in range(i+1, len(new_arr)):\n",
    "        if new_arr[j]<new_arr[min_index]:\n",
    "            min_index = j\n",
    "    new_arr[i], new_arr[min_index] = new_arr[min_index], new_arr[i]\n",
    "\n",
    "new_arr"
   ]
  },
  {
   "cell_type": "markdown",
   "metadata": {},
   "source": [
    "#### Merge sort\n",
    "1. It's a divide and conquer algorithm to sort the given array\n",
    "2. We divide the array into two halves.\n",
    "3. Pass the divided array into the function again for comparison\n",
    "4. "
   ]
  },
  {
   "cell_type": "markdown",
   "metadata": {},
   "source": [
    "#### Program to reverse an array"
   ]
  },
  {
   "cell_type": "markdown",
   "metadata": {},
   "source": [
    "#### Occurance of an integre in an array"
   ]
  },
  {
   "cell_type": "code",
   "execution_count": 26,
   "metadata": {},
   "outputs": [
    {
     "name": "stdout",
     "output_type": "stream",
     "text": [
      "Occurance of the number 3 in the array is 4\n"
     ]
    }
   ],
   "source": [
    "def occurance(arr, finder):\n",
    "    occ = 0\n",
    "    for i in range(len(arr)):\n",
    "        if finder == arr[i]:\n",
    "            occ+=1\n",
    "    print(f\"Occurance of the number {finder} in the array is {occ}\")\n",
    "\n",
    "array4 = [1, 1, 2, 2, 2, 3, 3, 3, 3, 4, 4]\n",
    "find_occ = 3\n",
    "occurance(array4, find_occ)"
   ]
  },
  {
   "cell_type": "markdown",
   "metadata": {},
   "source": [
    "#### Find subarray with given sum"
   ]
  },
  {
   "cell_type": "markdown",
   "metadata": {},
   "source": [
    "##### Pseudo code\n",
    "\n",
    "1. Start the first loop (i)\n",
    "2. Start the second loop (j) from the next element index\n",
    "3. Traverse to the next elements, add them to the sum variables\n",
    "4. compare the summed variable with the current sum variable\n",
    "5. if sum found to be equal return the index of (i) and (j)\n",
    "6. else if sum is smaller than the given sum, repeat step 3 to 5\n",
    "7. else if the current sum is greater than the given sum subtract the first element and add the next element\n",
    "Repeat step 3 to 5"
   ]
  },
  {
   "cell_type": "code",
   "execution_count": 31,
   "metadata": {},
   "outputs": [
    {
     "name": "stdout",
     "output_type": "stream",
     "text": [
      "Sub array found between 0 to 1\n"
     ]
    }
   ],
   "source": [
    "def sum_subarray(arr, sum_arr):\n",
    "    current_sum = arr[0]\n",
    "    start = 0\n",
    "    for i in range(1, len(arr)):\n",
    "        current_sum+=arr[i]\n",
    "\n",
    "        if current_sum == sum_arr:\n",
    "            print(f\"Sub array found between {start} to {i}\")\n",
    "            return\n",
    "        while current_sum >sum_arr and start < i:\n",
    "            current_sum -= arr[start]\n",
    "            start += 1\n",
    "            if current_sum == sum_arr:\n",
    "                print(f\"Sub array found between {start} and {i}\")\n",
    "                return\n",
    "\n",
    "arr = [8,2,4,0,6,9,1,2]\n",
    "target_sum = 10\n",
    "\n",
    "sum_subarray(arr, target_sum)"
   ]
  },
  {
   "cell_type": "code",
   "execution_count": null,
   "metadata": {},
   "outputs": [],
   "source": []
  }
 ],
 "metadata": {
  "kernelspec": {
   "display_name": "Python 3",
   "language": "python",
   "name": "python3"
  },
  "language_info": {
   "codemirror_mode": {
    "name": "ipython",
    "version": 3
   },
   "file_extension": ".py",
   "mimetype": "text/x-python",
   "name": "python",
   "nbconvert_exporter": "python",
   "pygments_lexer": "ipython3",
   "version": "3.11.9"
  }
 },
 "nbformat": 4,
 "nbformat_minor": 2
}
