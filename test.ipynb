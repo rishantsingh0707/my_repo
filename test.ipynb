{
 "cells": [
  {
   "cell_type": "code",
   "execution_count": 5,
   "metadata": {},
   "outputs": [
    {
     "name": "stdout",
     "output_type": "stream",
     "text": [
      "iH I ma hbahsiR\n"
     ]
    }
   ],
   "source": [
    "sentence = str(input(\"Enter a string\"))\n",
    "words = [word[::-1] for word in sentence.split()]\n",
    "print(\" \".join(words))"
   ]
  },
  {
   "cell_type": "code",
   "execution_count": 11,
   "metadata": {},
   "outputs": [
    {
     "name": "stdout",
     "output_type": "stream",
     "text": [
      "Original List:  [2, 3, 4, 6, 4]\n",
      "New list after removing duplicate:  [2, 3, 4, 6]\n"
     ]
    }
   ],
   "source": [
    "my_lsit = [2, 3, 4, 6, 4]\n",
    "print(\"Original List: \", my_lsit)\n",
    "print(\"New list after removing duplicate: \",list(set(my_lsit)))"
   ]
  },
  {
   "cell_type": "code",
   "execution_count": 1,
   "metadata": {},
   "outputs": [
    {
     "name": "stdout",
     "output_type": "stream",
     "text": [
      "List after removing duplicates:  [2, 3, 4, 6]\n"
     ]
    }
   ],
   "source": [
    "list = [2, 3, 4, 6, 4]\n",
    "temp_list = []\n",
    "for num in list:\n",
    "    if num not  in temp_list:\n",
    "        temp_list.append(num)\n",
    "    else:\n",
    "        pass\n",
    "\n",
    "print(\"List after removing duplicates: \", temp_list)"
   ]
  },
  {
   "cell_type": "code",
   "execution_count": 4,
   "metadata": {},
   "outputs": [
    {
     "name": "stdout",
     "output_type": "stream",
     "text": [
      "Count of each number in the list:  {2: 1, 3: 2, 4: 3, 6: 1, 5: 2, 7: 2}\n"
     ]
    }
   ],
   "source": [
    "# Count the number of duplicate numbers in a list\n",
    "list = [2, 3, 4, 6, 4, 5, 7, 5, 3, 4, 7]\n",
    "count_list = {}\n",
    "for num in list:\n",
    "    if num not in count_list:\n",
    "        count_list[num] = +1\n",
    "    elif num in count_list:\n",
    "        count_list[num] += 1\n",
    "\n",
    "print(\"Count of each number in the list: \", count_list)"
   ]
  },
  {
   "cell_type": "code",
   "execution_count": 13,
   "metadata": {},
   "outputs": [
    {
     "name": "stdout",
     "output_type": "stream",
     "text": [
      "[2, 3]\n"
     ]
    }
   ],
   "source": [
    "list_ = [2, 3, 4]\n",
    "list_.remove(4)\n",
    "print(list_)"
   ]
  },
  {
   "cell_type": "code",
   "execution_count": 5,
   "metadata": {},
   "outputs": [
    {
     "name": "stdout",
     "output_type": "stream",
     "text": [
      "[3, 5, 7]\n"
     ]
    }
   ],
   "source": [
    "def remove_even(list_):\n",
    "    new_list = []\n",
    "    for ele in list_:\n",
    "        if (ele % 2==0):\n",
    "            pass\n",
    "        else:\n",
    "            new_list.append(ele)\n",
    "    return new_list\n",
    "\n",
    "mylist = remove_even([2, 3, 4, 6, 5, 7])\n",
    "print(mylist)"
   ]
  },
  {
   "cell_type": "code",
   "execution_count": null,
   "metadata": {},
   "outputs": [],
   "source": []
  }
 ],
 "metadata": {
  "kernelspec": {
   "display_name": "Python 3",
   "language": "python",
   "name": "python3"
  },
  "language_info": {
   "codemirror_mode": {
    "name": "ipython",
    "version": 3
   },
   "file_extension": ".py",
   "mimetype": "text/x-python",
   "name": "python",
   "nbconvert_exporter": "python",
   "pygments_lexer": "ipython3",
   "version": "3.11.9"
  }
 },
 "nbformat": 4,
 "nbformat_minor": 2
}
