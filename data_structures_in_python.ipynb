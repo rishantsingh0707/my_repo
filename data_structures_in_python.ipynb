{
 "cells": [
  {
   "cell_type": "markdown",
   "metadata": {},
   "source": [
    "#### Arrays"
   ]
  },
  {
   "cell_type": "markdown",
   "metadata": {},
   "source": [
    "Given an array of integers nums and an integer target, return indices of the two numbers such that they add up to target."
   ]
  },
  {
   "cell_type": "code",
   "execution_count": 1,
   "metadata": {},
   "outputs": [
    {
     "name": "stdout",
     "output_type": "stream",
     "text": [
      "Sub array: [[4, 5]]\n"
     ]
    }
   ],
   "source": [
    "array = [3,5,6,2,7,9]\n",
    "target = 16\n",
    "sub_array = []\n",
    "for i in range(len(array)-1):\n",
    "    for j in range(i+1, len(array)):\n",
    "        if array[i]+array[j] == target:\n",
    "            sub_array.append([i,j]) \n",
    "\n",
    "print(\"Sub array:\", sub_array)"
   ]
  },
  {
   "cell_type": "markdown",
   "metadata": {},
   "source": [
    "##### Median of Two Sorted Arrays\n",
    "Given two sorted arrays nums1 and nums2 of size m and n respectively, return the median of the two sorted arrays."
   ]
  },
  {
   "cell_type": "code",
   "execution_count": 24,
   "metadata": {},
   "outputs": [
    {
     "name": "stdout",
     "output_type": "stream",
     "text": [
      "Median of the two sorted arrays: 9\n"
     ]
    }
   ],
   "source": [
    "sorted_arr1 = [3,6,4,10,9,22,16,12,7]\n",
    "sorted_arr2 = [3,8,2,10,24,18]\n",
    "\n",
    "sorted_arr2.sort()\n",
    "sorted_arr2.sort()\n",
    "\n",
    "concatenated_arr = sorted_arr1+sorted_arr2\n",
    "concatenated_arr.sort()\n",
    "size_concat = len(concatenated_arr)\n",
    "if size_concat % 2 == 1:\n",
    "    median = concatenated_arr[size_concat//2]\n",
    "elif size_concat % 2 == 0:\n",
    "    median = (concatenated_arr[size_concat//2-1] + concatenated_arr[size_concat//21])/2\n",
    "\n",
    "print(\"Median of the two sorted arrays:\", median)"
   ]
  },
  {
   "cell_type": "markdown",
   "metadata": {},
   "source": [
    "##### Container with most water\n",
    "Given an integer array height of length n. There are n vertical lines drawn such that the two endpoints of the ith line are (i, 0) and (i, height[i]).\n",
    "\n",
    "Find two lines that together with the x-axis form a container, such that the container contains the most water.\n",
    "\n",
    "Return the maximum amount of water a container can store."
   ]
  },
  {
   "cell_type": "code",
   "execution_count": 31,
   "metadata": {},
   "outputs": [
    {
     "name": "stdout",
     "output_type": "stream",
     "text": [
      "Container with most water:  49\n"
     ]
    }
   ],
   "source": [
    "tank_series = [1, 8, 6, 2, 5, 4, 8, 3, 7]\n",
    "\n",
    "def max_area(height):\n",
    "    left = 0\n",
    "    right = len(height) - 1\n",
    "    max_area = 0\n",
    "    \n",
    "    while left < right:\n",
    "        width = right - left\n",
    "        min_height = min(height[left], height[right])\n",
    "        current_area = width * min_height\n",
    "        max_area = max(max_area, current_area)\n",
    "        if height[left] < height[right]:\n",
    "            left += 1\n",
    "        else:\n",
    "            right -= 1\n",
    "            \n",
    "    return max_area\n",
    "\n",
    "print(\"Container with most water: \", max_area(tank_series))\n"
   ]
  },
  {
   "cell_type": "markdown",
   "metadata": {},
   "source": [
    "##### 3Sum Problem\n",
    "Given an integer array nums, return all the triplets [nums[i], nums[j], nums[k]] such that i != j, i != k, and j != k, and \n",
    "nums[i] + nums[j] + nums[k] == 0."
   ]
  },
  {
   "cell_type": "code",
   "execution_count": 6,
   "metadata": {},
   "outputs": [
    {
     "name": "stdout",
     "output_type": "stream",
     "text": [
      "Solution to 3sum proble:  [[-1, -1, 2], [-1, 0, 1]]\n"
     ]
    }
   ],
   "source": [
    "nums = [-1,0,1,2,-1,-4]\n",
    "sorted_nums = nums.sort()\n",
    "results = []\n",
    "\n",
    "for i in range(len(nums) - 2):\n",
    "    if i>0 and nums[i] == nums[i-1]:\n",
    "        continue\n",
    "    left = i+1\n",
    "    right = len(nums)-1\n",
    "    while left<right:\n",
    "        sum = nums[i] + nums[left] +nums[right]\n",
    "        if sum == 0:\n",
    "            results.append([nums[i], nums[left], nums[right]])\n",
    "            while left<right and nums[left] == nums[left+1]:\n",
    "                left += 1\n",
    "            while left <right and nums[right] == nums[right-1]:\n",
    "                right -=1\n",
    "            left += 1\n",
    "            right -= 1\n",
    "        elif sum<0:\n",
    "            left+=1\n",
    "        else: \n",
    "            right-= 1\n",
    "\n",
    "print(\"Solution to 3sum proble: \", results)"
   ]
  },
  {
   "cell_type": "markdown",
   "metadata": {},
   "source": [
    "##### Remove Duplicates from Sorted Array\n",
    "Given an integer array nums sorted in non-decreasing order, remove the duplicates in-place such that each unique element appears only once. The relative order of the elements should be kept the same. Then return the number of unique elements in nums.\n",
    "\n",
    "Consider the number of unique elements of nums to be k, to get accepted, you need to do the following things:\n",
    "\n",
    "Change the array nums such that the first k elements of nums contain the unique elements in the order they were present in nums initially. The remaining elements of nums are not important as well as the size of nums.\n",
    "Return k."
   ]
  },
  {
   "cell_type": "code",
   "execution_count": 1,
   "metadata": {},
   "outputs": [
    {
     "name": "stdout",
     "output_type": "stream",
     "text": [
      "Array after removing duplicates:  [0, 1, 2, 3, 4]\n",
      "Number of unique elements:  5\n"
     ]
    }
   ],
   "source": [
    "nums = [0,0,1,1,1,2,2,3,3,4]\n",
    "slow = 0\n",
    "for fast in range(1, len(nums)):\n",
    "    if nums[fast] != nums[slow]:\n",
    "        slow +=1\n",
    "        nums[slow] = nums[fast]\n",
    "print(\"Array after removing duplicates: \", nums[:slow+1])\n",
    "print(\"Number of unique elements: \", slow+1)"
   ]
  },
  {
   "cell_type": "markdown",
   "metadata": {},
   "source": [
    "# DSA\n",
    "### Topics that would be covered\n",
    "##### Some inbuilt data strcutures\n",
    "<ol>\n",
    "    <details>\n",
    "        <summary>Lists</summary>\n",
    "        <p>List definition, operations on list- Traversal, Insertion, detetion, extension, List comprehension</p>\n",
    "    </details>\n",
    "    <details>\n",
    "        <summary>Tuples</summary>\n",
    "        <p>Definition, Nature, Tuple operation- Creation, Traversal</p>\n",
    "    </details>\n",
    "    <details>\n",
    "        <summary>Sets</summary>\n",
    "        <p>Definition, Nature, Usability, Operations- Creation, Insertion, Deletion, Traversal</p>\n",
    "    </details>\n",
    "    <details>\n",
    "        <summary>Frozen Sets</summary>\n",
    "        <p>Definition, nature and characteristics, Operation- Creation, Traversal</p>\n",
    "    </details>\n",
    "    <details>\n",
    "        <summary>Strings</summary>\n",
    "        <p>Definition, Nature, Operation- Creation, Traversal</p>\n",
    "    </details>\n",
    "    <details>\n",
    "        <summary>Dictionary</summary>\n",
    "        <p>Definition of dictionary, Operations- Creation, Traversal, deletion, Insertion, Accessibility of key/values in dictionary, , Dictionary reversal, Dictionary Comprehension</p>\n",
    "    </details>\n",
    "</ol>\n",
    "\n",
    "##### Some user-defined data structure\n",
    "<ol>\n",
    "    <details>\n",
    "        <summary>Linked List</summary>\n",
    "        <p>Definition, Implementation in Python, Operation- Insertion, Deletion (deleting a key and deleting a key at given position), Length ifof a Linked List, Search an element in the list, Nth node from the last of the linked list, reverse a linked listp>\n",
    "    </details>\n",
    "    <details>\n",
    "        <summary>Stack</summary>\n",
    "        <p>Definition, Nature, Operations- Creation, View (called as top), Insertion (or push), Removal (or pop), Other Conversion operations</p>\n",
    "    </details>\n",
    "    <details>\n",
    "        <summary>Queue</summary>\n",
    "        <p>Definition, Nature, Operation- Enqueue, Dequeue, Front, Rear</p>\n",
    "    </details>\n",
    "    <details>\n",
    "        <summary>Heap</summary>\n",
    "        <p>What is a Heap, Properties of heap, Types, Operations </p>\n",
    "    </details>\n",
    "        <details>\n",
    "        <summary>Binary Tree</summary>\n",
    "        <p>Key concepts and rules, Operations</p>\n",
    "    </details>\n",
    "        <details>\n",
    "        <summary>Tree traversal</summary>\n",
    "        <p>Different Algorithms for tree traversal, Operations</p>\n",
    "    </details>\n",
    "        <details>\n",
    "        <summary>Binary search tree</summary>\n",
    "        <p>Properties, Rules, Operations</p>\n",
    "    </details>\n",
    "    </details>\n",
    "        <details>\n",
    "        <summary>Graph</summary>\n",
    "        <p>Definition and key concepts, Operations </p>\n",
    "    </details>\n",
    "        </details>\n",
    "        <details>\n",
    "        <summary>Graph Traversal</summary>\n",
    "        <p>Types of searching algorithm, </p> \n",
    "    </details>\n",
    "        </details>\n",
    "        <details>\n",
    "        <summary>Recursion</summary>\n",
    "        <p>Definition and key concepts, memory allocation</p>\n",
    "    </details>\n",
    "        </details>\n",
    "        <details>\n",
    "        <summary>Dynamic programming</summary>\n",
    "        <p>Definition and key concepts, Tabulation vs Memoization </p>\n",
    "    </details>\n",
    "        </details>\n",
    "        <details>\n",
    "        <summary>Searching Algorithms</summary>\n",
    "        <p>Various types of searching algorithm </p>\n",
    "    </details>\n",
    "        </details>\n",
    "        <details>\n",
    "        <summary>Sorting Algorithms</summary>\n",
    "        <p>Various types of sorting algorithm</p>\n",
    "    </details>\n",
    "</ol>\n",
    "<p>Let's start right away from the first one</p>\n",
    "\n",
    "----------------------------------------------------------------------------------------------------------------------------------------------"
   ]
  },
  {
   "cell_type": "markdown",
   "metadata": {},
   "source": [
    "#### List\n",
    "<p>List is a data structure in python which resembles array in C, C++ or Java. </p>\n",
    "<p>It's a data structure that can store elements of same or differend data types. </p>\n",
    "<p>Lists are mutable meaning, once lists are created, they can be altered. </p>\n",
    "<p>List operations include:. </p>\n",
    "<p><strong>append()</strong>: add new elements in the list (adds an element at the last of the list). </p>\n",
    "<p><strong>Deleting</strong> an element from any index (\"del\" on the basis of index of the element) & <strong>removing</strong> the elements (remove() on the basis of value). </p>\n",
    "<p><strong>Update()</strong>: updating the list elements (use of indexing method). </p> \n",
    "<p><strong>Merging</strong> two lists using <strong>extend()</strong> function. </p>\n",
    "<p><strong>insertion</strong>: insert an element at a particular index(Specify the index numer and the element which would replace the current element) </p>"
   ]
  },
  {
   "cell_type": "code",
   "execution_count": 33,
   "metadata": {},
   "outputs": [
    {
     "data": {
      "text/plain": [
       "[2, 6, 9]"
      ]
     },
     "execution_count": 33,
     "metadata": {},
     "output_type": "execute_result"
    }
   ],
   "source": [
    "list1 = [1,3,4,2,6,9,5]\n",
    "# List slicing\n",
    "list1[4]\n",
    "list1[3:6]"
   ]
  },
  {
   "cell_type": "code",
   "execution_count": 34,
   "metadata": {},
   "outputs": [
    {
     "data": {
      "text/plain": [
       "[1, 3, 4, 2, 6, 9, 5, 7]"
      ]
     },
     "execution_count": 34,
     "metadata": {},
     "output_type": "execute_result"
    }
   ],
   "source": [
    "# add elements in the list (at the end)\n",
    "list1.append(7)\n",
    "list1"
   ]
  },
  {
   "cell_type": "code",
   "execution_count": 35,
   "metadata": {},
   "outputs": [
    {
     "data": {
      "text/plain": [
       "[1, 3, 4, 2, 8, 6, 9, 5, 7]"
      ]
     },
     "execution_count": 35,
     "metadata": {},
     "output_type": "execute_result"
    }
   ],
   "source": [
    "# inserting elements in the list using insert (at the specified position)\n",
    "list1.insert(4, 8)\n",
    "list1"
   ]
  },
  {
   "cell_type": "code",
   "execution_count": 36,
   "metadata": {},
   "outputs": [
    {
     "data": {
      "text/plain": [
       "[1, 3, 0, 2, 8, 6, 9, 5, 7]"
      ]
     },
     "execution_count": 36,
     "metadata": {},
     "output_type": "execute_result"
    }
   ],
   "source": [
    "# Updating elements in the list (using indexing method)\n",
    "list1[2] = 0\n",
    "list1"
   ]
  },
  {
   "cell_type": "code",
   "execution_count": 37,
   "metadata": {},
   "outputs": [
    {
     "data": {
      "text/plain": [
       "[1, 3, 0, 2, 8, 6, 9, 5, 7, 3, 6, 4, 7]"
      ]
     },
     "execution_count": 37,
     "metadata": {},
     "output_type": "execute_result"
    }
   ],
   "source": [
    "# Merging two lists/extending the list with some more data \n",
    "list2 = [3,6,4,7]\n",
    "list1.extend(list2)\n",
    "list1"
   ]
  },
  {
   "cell_type": "code",
   "execution_count": 38,
   "metadata": {},
   "outputs": [
    {
     "name": "stdout",
     "output_type": "stream",
     "text": [
      "[1, 0, 2, 8, 6, 9, 5, 7, 3, 6, 4, 7]\n",
      "[1, 0, 2, 8, 6, 9, 5, 7, 3, 6, 4]\n",
      "[1, 0, 2, 8, 9, 5, 7, 3, 6, 4]\n"
     ]
    }
   ],
   "source": [
    "# Deleting element / pop elemenrt from the list\n",
    "# Using del keyword without specifying the index of the element in the list slicing will delete all the elements in the list\n",
    "del list1[1]\n",
    "print(list1)\n",
    "# by default, if not index number is specified, pop() will remove the last element from the list. \n",
    "# Specifying the index would remove the elements present at that index\n",
    "list1.pop()\n",
    "print(list1)\n",
    "# remove() method removes an element if it exists in the list. Specify the element in the method\n",
    "list1.remove(6)\n",
    "print(list1)"
   ]
  },
  {
   "cell_type": "markdown",
   "metadata": {},
   "source": [
    "#### Tuple\n",
    "<p>Tuple is a pre-defined data structure in python that can store collection of data. They can store multiple items in a single variable</p>\n",
    "<p>Tuples can be accessed using index similar to that of list. It is ordered, unchangeable and allow duplicate values.</p>\n",
    "<p>Meaning, tuple items have a defined order that will not change. </p>\n",
    "<p>Unchangable means that we cannot change, add or remove items after the tuple is created. We can only access the items in the tuple using indexing method, loop through the items. </p>\n",
    "<p>Altering tuples is not possible directly, but elements can be added, removed or updated by first converting the tuple into list, performing necessary operation s and then converting the modified list back to tuple. </p>"
   ]
  },
  {
   "cell_type": "code",
   "execution_count": 44,
   "metadata": {},
   "outputs": [
    {
     "data": {
      "text/plain": [
       "1"
      ]
     },
     "execution_count": 44,
     "metadata": {},
     "output_type": "execute_result"
    }
   ],
   "source": [
    "tup = (2,1,4,3,6,5,)\n",
    "tup.count(3)"
   ]
  },
  {
   "cell_type": "markdown",
   "metadata": {},
   "source": [
    "#### Dictionary\n",
    "<p>A dictionary is a data structure in python that stores items in key-value pairs. It is a collection which is ordered, changable and does not allow duplicates</p>\n",
    "<strong>Operations on dictionary</strong>\n",
    "<p><strong>Accessing dictionary Items</strong>: Item is a dictionary can be accessed by referring to its key name in square brackets. Theres also a method named get() that gives out the same result </p>\n",
    "<p><strong>Change/Update dictionary Items</strong>:  Dictionary items can be changed by referring to its key name/ using the update() method. Pass both the key and the value when using update() method.</p>\n",
    "<p><strong>Add Items in dictionary</strong>: Its same like changing the dictionary, as in, we could use the key and assign the value to key. Use of update method could also be used to add items in the dictionary. </p>\n",
    "<p><strong>Remove dictionary Items</strong>: Using pop(), popitems() methods and also del keyword. Note that not specifyiing the keyname with the dictionary variable will remove all the items in the dictionary.</p>"
   ]
  },
  {
   "cell_type": "code",
   "execution_count": 47,
   "metadata": {},
   "outputs": [
    {
     "data": {
      "text/plain": [
       "{'brand': 'Ford', 'model': 'Mustang', 'year': 1967}"
      ]
     },
     "execution_count": 47,
     "metadata": {},
     "output_type": "execute_result"
    }
   ],
   "source": [
    "thisdict = {\n",
    "  \"brand\": \"Ford\",\n",
    "  \"model\": \"Mustang\",\n",
    "  \"year\": 1967\n",
    "}\n",
    "thisdict"
   ]
  },
  {
   "cell_type": "code",
   "execution_count": 51,
   "metadata": {},
   "outputs": [
    {
     "name": "stdout",
     "output_type": "stream",
     "text": [
      "{'brand': 'Ford', 'model': 'Mustang', 'year': 1967, 'ModelType': 'sportscar'}\n",
      "{'brand': 'Ford', 'model': 'Mustang', 'year': 1967, 'ModelType': 'sportscar', 'Color': 'Royal Green'}\n"
     ]
    }
   ],
   "source": [
    "# Add item in the dictionary\n",
    "thisdict[\"ModelType\"] = \"sportscar\"\n",
    "print(thisdict)\n",
    "thisdict.update({\"Color\": \"Royal Green\"})\n",
    "print(thisdict)"
   ]
  },
  {
   "cell_type": "code",
   "execution_count": 52,
   "metadata": {},
   "outputs": [
    {
     "data": {
      "text/plain": [
       "{'brand': 'Ford',\n",
       " 'model': 'Mustang',\n",
       " 'ModelType': 'sportscar',\n",
       " 'Color': 'Royal Green'}"
      ]
     },
     "execution_count": 52,
     "metadata": {},
     "output_type": "execute_result"
    }
   ],
   "source": [
    "# Remove item from the dictionary\n",
    "thisdict.pop(\"year\")\n",
    "thisdict"
   ]
  },
  {
   "cell_type": "code",
   "execution_count": 55,
   "metadata": {},
   "outputs": [
    {
     "data": {
      "text/plain": [
       "{'brand': 'Ford', 'model': 'Mustang', 'ModelType': 'sportscar'}"
      ]
     },
     "execution_count": 55,
     "metadata": {},
     "output_type": "execute_result"
    }
   ],
   "source": [
    "thisdict.popitem()\n",
    "thisdict"
   ]
  },
  {
   "cell_type": "markdown",
   "metadata": {},
   "source": [
    "#### Set\n",
    "<p>Sets are used to store multiple data items in a single variable. Unlike lists that are capable of storing multiple data in a single variable, Sets are unordered, unchangable, unindexed and do not allow duplicate values. </p>\n",
    "<p>A set is written in curly brackets{}. </p>\n",
    "<strong>Set Operations/methods in python</strong>\n",
    "<p><strong>add()</strong>: Although set items cannot be changed, we can add or even remove items in/from them. </p>\n",
    "<p><strong>remove() / discard()</strong>: This method removes any item from the set if it is available in it</p>\n",
    "<p><strong>difference()</strong>: Returns a set containing the difference between two or more sets</p>\n",
    "<p><strong>difference_update()</strong>: Removes items in this set that are also included in another specified set</p>\n",
    "<p><strong>intersection()</strong>: Returns a set that is intersection of two other sets.</p>\n",
    "<p><strong>intersection_update()</strong>: removes item in this set that are notpresent in other specified set.</p>\n",
    "<p><strong>isdisjoint()</strong>: Returns whether two sets have intersection or not</p>\n",
    "<p><strong>union()</strong>: Returns a set containing the union of the two sets</p>"
   ]
  },
  {
   "cell_type": "code",
   "execution_count": 88,
   "metadata": {},
   "outputs": [
    {
     "name": "stdout",
     "output_type": "stream",
     "text": [
      "{'apple', 'grapes', 'Mango', 'orange'}\n",
      "{'Mango', ('banana', 'guava'), 'orange', 'apple', 'grapes'}\n"
     ]
    }
   ],
   "source": [
    "# Defining a set and add items in it. When using add() method, we can pass only the tuple items in the set\n",
    "fruitset1 = {\"Mango\", \"orange\", \"apple\", \"grapes\"}\n",
    "print(fruitset1)\n",
    "fruitset2 = (\"banana\", \"guava\")\n",
    "fruitset1.add(fruitset2)\n",
    "print(fruitset1)"
   ]
  },
  {
   "cell_type": "code",
   "execution_count": 82,
   "metadata": {},
   "outputs": [
    {
     "data": {
      "text/plain": [
       "{'banana', 'guava'}"
      ]
     },
     "execution_count": 82,
     "metadata": {},
     "output_type": "execute_result"
    }
   ],
   "source": [
    "# Difference of the two set\n",
    "diffset = set(fruitset2).difference(fruitset1)\n",
    "diffset"
   ]
  },
  {
   "cell_type": "code",
   "execution_count": 83,
   "metadata": {},
   "outputs": [
    {
     "name": "stdout",
     "output_type": "stream",
     "text": [
      "{'semitrucks', 'large trucks', 'vans', 'cars'} \n",
      " {'bikes', 'cycles', 'scooter', 'ktv'}\n",
      "difference of set1 and set2:  {'semitrucks', 'large trucks', 'vans', 'cars'}\n",
      "Intersection of the two sets:  set()\n",
      "Union of the two sets:  {'scooter', 'semitrucks', 'cycles', 'vans', 'ktv', 'cars', 'bikes', 'large trucks'}\n"
     ]
    }
   ],
   "source": [
    "set1 = {\"cars\", \"vans\", \"semitrucks\", \"large trucks\"}\n",
    "set2 = {\"bikes\", \"ktv\", \"cycles\", \"scooter\"}\n",
    "print(set1,\"\\n\",set2)\n",
    "print(\"difference of set1 and set2: \",set1.difference(set2))\n",
    "print(\"Intersection of the two sets: \", set1.intersection(set2))\n",
    "print(\"Union of the two sets: \", set2.union(set1))"
   ]
  },
  {
   "cell_type": "code",
   "execution_count": 91,
   "metadata": {},
   "outputs": [
    {
     "name": "stdout",
     "output_type": "stream",
     "text": [
      "{'model', 'scooter', 'semitrucks', 'guava', 'cycles', 'vans', 'cars', 'ktv', 'bikes', 'banana', 'large trucks', 'brand', 'ModelType'}\n"
     ]
    }
   ],
   "source": [
    "# Update(): Adds items in the set on which the update() method is used. \n",
    "# The update method can take values from any collection type, let that be a set, list,  tuple or a dictionary. \n",
    "# In case of dictionary, it the keys are added/updated into the set\n",
    "set1.update(thisdict)\n",
    "print(set1)"
   ]
  },
  {
   "cell_type": "code",
   "execution_count": 94,
   "metadata": {},
   "outputs": [],
   "source": [
    "set2.difference_update(set1)"
   ]
  },
  {
   "cell_type": "markdown",
   "metadata": {},
   "source": [
    "#### What is an Algorithm?\n",
    "<p>An algorithm is a set of well-defined instructions executed in a particular order to solve a particular problem. It takes a set of inputs and produces the desired output. </p>\n",
    "\n",
    "#### Data structure and it's types \n",
    "<p>Data structure is a way of storing data in the computer system so that it can be accessed and updated efficiently.</p>\n",
    "<p>Data strcuture and data types are slightly different. Data structure is a collection data types arranged in a specific order</p>\n",
    "\n",
    "##### Types of data structure\n",
    "Basically data structures are divided into two categories.\n",
    "<ol>\n",
    "    <li>Linear data structure</li>\n",
    "    <li>Non-linear data structure</li>\n",
    "</ol>\n",
    "\n",
    "##### Linear data structures\n",
    "<p>Linear data structures store elements in a sequencial order one after another. Since elements are arranged in particular order, they are easy to implement.</p>\n",
    "<strong>Popular lenear data structures are:</strong>\n",
    "\n",
    "##### Array\n",
    "<p>In an array, elements in memory are arranged in continuous memory. All the elements of an array are of the same type. And, the type of elements that can be stored in the form of arrays is determined by the programming language.</p>\n",
    "\n",
    "##### Stack \n",
    "<p>In stack data structure, elements are stored in the LIFO principle. That is, the last element stored in a stack will be removed first.\n",
    "<br>\n",
    "It works just like a pile of plates where the last plate kept on the pile will be removed first.</p>\n",
    "\n",
    "##### Queue\n",
    "<p>Unlike stack, the queue data structure works in the FIFO principle where first element stored in the queue will be removed first.\n",
    "<br>\n",
    "It works just like a queue of people in the ticket counter where first person on the queue will get the ticket first. </p>\n",
    "\n",
    "##### Linked List\n",
    "<p>In linked list data structure, data elements are connected through a series of nodes. And, each node contains the data items and address to the next node.</p>\n",
    "\n",
    "##### Non-linear data structures\n",
    "<p>Unlike linear data structures, elements in non-linear data srtructure are not stored in sequential format. Instead they are arranged in hierarchical format where one element is connected to one or more elements</p>\n",
    "<p>Non-linear data structures are further divided into graph and tree based data structures. </p>\n",
    "<strong>Popular non-lenear data structures are:</strong>\n",
    "\n",
    "##### Graph data structure\n",
    "<p>In graph data structure, each node is called vertex and each vertex is connected to other vertices through edges.</p>\n",
    "<strong>Popular graph based data structures are:</strong>\n",
    "<ul>\n",
    "    <li>Spanning Tree and Minimum Spanning Tree</li>\n",
    "    <li>Strongly Connected Components</li>\n",
    "    <li>Adjacency Matrix</li>\n",
    "    <li>Adjacency List</li>\n",
    "</ul>\n",
    "\n",
    "##### Tree Data structure \n",
    "<p>Similar to graph, tree is also a type of non-linear data structure. It is a collection of vertices and edges. however, there can be only one edge between two vertices in a tree data structure. </p>\n",
    "<strong>Popular tree based data structures are:</strong>\n",
    "<ul>\n",
    "    <li>Binary Tree</li>\n",
    "    <li>Binary Search Tree</li>\n",
    "    <li>AVL tree</li>\n",
    "    <li>B-Tree</li>\n",
    "    <li>B+ Tree</li>\n",
    "    <li>Red Black Tree</li>\n",
    "</ul>"
   ]
  },
  {
   "cell_type": "markdown",
   "metadata": {},
   "source": [
    "#### Asymptotic Analysis\n",
    "<p>The efficiency of an algorithm dependes on the amount of time storage and other resources required to execute an algorithm. This efficiency is measured using asymptotic notation</p>\n",
    "There are mainly three asymptotic notations:\n",
    "<li>Big-O notation</li>\n",
    "<li>Omega notation</li>\n",
    "<li>Theta notation</li>\n",
    "\n",
    "##### Big-O notation (O-notation)\n",
    "Big-O notation represents the upper bound of the running time of an algorithm. Thus, it gives the worst-case complexity of an algorithm. \n",
    "\n",
    "##### Omega Notation (Ω-notation)\n",
    "Omega notation represents the lower bound of the running time of an algorithm. Thus, it provides the best case complexity of an algorithm.\n",
    "\n",
    "##### Theta Notation (Θ-notation)\n",
    "Theta notation encloses the function from above and below. Since it represents the upper and the lower bound of the running time of an algorithm, it is used for analyzing the average-case complexity of an algorithm."
   ]
  },
  {
   "cell_type": "markdown",
   "metadata": {},
   "source": [
    "#### Stack\n",
    "Stack is a data structure that follows the principles of Lifo (Last in first out). This means that the last element inserted in the stack is removed first.\n",
    "\n",
    "##### Principles of stack\n",
    "In programming terms, putting an item on top of the stack is called \"Push\" while removing an item is called pop.\n",
    "\n",
    "##### <strong>Basic operations on stack</strong>\n",
    "1. Push(): Add an element on top of the stack\n",
    "2. pop(): Remove element from the top of the stack\n",
    "2. isempty(): Check if the stack is empty\n",
    "4. isfull(): Check if the stack is full\n",
    "5. peek(): Get the values of the top element without removing the top element."
   ]
  },
  {
   "cell_type": "code",
   "execution_count": 17,
   "metadata": {},
   "outputs": [],
   "source": [
    "class Stack():\n",
    "    def __init__(self) -> None:\n",
    "        self.stack = []\n",
    "        self.stack_limit = 10\n",
    "    \n",
    "    def push(self, ele):\n",
    "        if len(self.stack)==self.stack_limit:\n",
    "            print(\"Stack limit reached. Cannot add item in stack.\")\n",
    "        else:\n",
    "            self.stack.append(ele)\n",
    "            print(f\"Item {ele} pushed in stack\")\n",
    "\n",
    "    def pop(self):\n",
    "        if len(self.stack)==0:\n",
    "            print(\"Stack empty. Cannot remove items from stack\")\n",
    "        else:\n",
    "            self.stack.pop()\n",
    "            print(\"Item removed from the stack\")\n",
    "    \n",
    "    def peek(self):\n",
    "        if len(self.stack)==0:\n",
    "            print(\"Stack empty\")\n",
    "        else:\n",
    "            print(\"Current element on top of the Stack: \", self.stack[-1])\n",
    "\n",
    "    def display(self):\n",
    "        print(\"Items in Stack: \", self.stack)\n",
    "\n",
    "s = Stack()"
   ]
  },
  {
   "cell_type": "code",
   "execution_count": 18,
   "metadata": {},
   "outputs": [
    {
     "name": "stdout",
     "output_type": "stream",
     "text": [
      "Item 3 pushed in stack\n",
      "Item 4 pushed in stack\n",
      "Item 8 pushed in stack\n",
      "Item 3 pushed in stack\n"
     ]
    }
   ],
   "source": [
    "s.push(3)\n",
    "s.push(4)\n",
    "s.push(8)\n",
    "s.push(3)"
   ]
  },
  {
   "cell_type": "code",
   "execution_count": 19,
   "metadata": {},
   "outputs": [
    {
     "name": "stdout",
     "output_type": "stream",
     "text": [
      "Item removed from the stack\n",
      "Current element on top of the Stack:  8\n"
     ]
    }
   ],
   "source": [
    "s.pop()\n",
    "s.peek()"
   ]
  },
  {
   "cell_type": "markdown",
   "metadata": {},
   "source": [
    "#### Queue\n",
    "A Queue is a data structure in programming. It stores dat in sequential order where it follows the First In First Out (FIFO) rule. The item that goes in first is the item that comes out first.\n",
    "\n",
    "##### Principle of Queue\n",
    "In programming terms, putting items in a Queue is called <strong>enqueue</strong> and removing items from the queue is called <strong>dequeue</strong>\n",
    "\n",
    "##### <strong>Basic operations on stack</strong>\n",
    "1. Enqueue(): Add an element on top of the stack\n",
    "2. Dequeue(): Remove element from the top of the stack\n",
    "2. isempty(): Check if the stack is empty\n",
    "4. isfull(): Check if the stack is full\n",
    "5. peek(): Get the values of the top element without removing the top element."
   ]
  },
  {
   "cell_type": "code",
   "execution_count": 138,
   "metadata": {},
   "outputs": [],
   "source": [
    "class Queue:\n",
    "    def __init__(self, q_size) -> None:\n",
    "        self.q_size = q_size\n",
    "        self.queue = [None]*self.q_size\n",
    "        self.head = self.tail = -1 \n",
    "    \n",
    "    def enqueue(self, item):\n",
    "        if self.tail==(self.q_size-1):\n",
    "            print(\"THe queue is full\")\n",
    "        elif self.head == -1:\n",
    "            self.head = 0\n",
    "            self.tail = 0\n",
    "            self.queue[self.tail] = item\n",
    "            print(f\"Element {item} inserted in the queue\")\n",
    "        else:\n",
    "            self.tail = (self.tail+1)\n",
    "            self.queue[self.tail] = item\n",
    "            print(f\"Element {item} inserted in the queue\")\n",
    "    \n",
    "    def dequeue(self):\n",
    "        if self.head == -1:\n",
    "            print(\"The queue is empty\")\n",
    "        elif self.head == self.tail:\n",
    "            temp = self.queue[self.head]\n",
    "            self.head == -1\n",
    "            self.tail == -1\n",
    "            print(f\"Element {temp} at position {self.head+1} removed from queue\")\n",
    "            return temp\n",
    "        else:\n",
    "            temp = self.queue[self.head]\n",
    "            self.head = (self.head+1)\n",
    "            print(f\"Element {self.queue[self.head-1]} at position {self.head-1} removed from queue\")\n",
    "            return temp\n",
    "    \n",
    "    def peek(self):\n",
    "        if self.head == self.tail:\n",
    "            print(\"The queue is empty\")\n",
    "        else:\n",
    "            print(\"The last element of the queue\", self.queue[self.tail])\n",
    "\n",
    "    def display(self):\n",
    "        if self.head == -1:\n",
    "            print(\"No element to show. The queue is empty\")\n",
    "        else:\n",
    "            print(\"Available elements in the queue:\", end=\" \")\n",
    "            for i in range(self.head, self.tail + 1):\n",
    "                print(self.queue[i], end=\" \")\n",
    "            print()\n",
    "\n",
    "q = Queue(q_size = 5)"
   ]
  },
  {
   "cell_type": "code",
   "execution_count": 141,
   "metadata": {},
   "outputs": [
    {
     "name": "stdout",
     "output_type": "stream",
     "text": [
      "THe queue is full\n",
      "THe queue is full\n",
      "Initial queue\n",
      "Available elements in the queue: 3 4 5 \n",
      "Element 3 at position 2 removed from queue\n",
      "After removing an element from the queue\n",
      "Available elements in the queue: 4 5 \n"
     ]
    }
   ],
   "source": [
    "# q = Queue(5)\n",
    "# q.enqueue(1)\n",
    "# q.enqueue(2)\n",
    "# q.enqueue(3)\n",
    "q.enqueue(4)\n",
    "q.enqueue(5)\n",
    "# q.enqueue(6)\n",
    "\n",
    "print(\"Initial queue\")\n",
    "q.display()\n",
    "\n",
    "q.dequeue()\n",
    "print(\"After removing an element from the queue\")\n",
    "q.display()"
   ]
  },
  {
   "cell_type": "markdown",
   "metadata": {},
   "source": [
    "##### Limitation of Queue\n",
    "Everything is all well until the end of queue is reached. Once the queue is full. It is obvious that once the queue is full, new elements cannot be added in it but dequeue operation is possible. <br><br>\n",
    "The limitation begins here. When we remove some elements but the queue is still not empty, we cannot add more elements to it. This is because the head and tail positions do not point the start if the queue.<br><br>\n",
    "To overcome with this limitation, we have a different type of queue called <strong>CIRCULAR QUEUE</strong>"
   ]
  },
  {
   "cell_type": "markdown",
   "metadata": {},
   "source": [
    "#### Circular Queue\n",
    "<p>A circular Queue is an extended version of regulaar queue where the last element is connected to the first element thus forming a circle like structure.</p>\n",
    "\n",
    "##### <strong>Working of Circular queue</strong>\n",
    "<p>Circular Queue works by the process of circular increment i.e, when we try to increment the pointer and reach the end of the queue, we start from the beginning of the queue. </p>\n",
    "<p>Here, the circular increment is performed by modulo division with the queue size. </p>\n",
    "<code>if REAR + 1 == 5 (overflow!), REAR = (REAR + 1)%5 = 0 (start of queue)</code>\n",
    "<p></p>\n",
    "<p></p>\n",
    "<p></p>"
   ]
  },
  {
   "cell_type": "code",
   "execution_count": 156,
   "metadata": {},
   "outputs": [],
   "source": [
    "class CircularQueue():\n",
    "    \n",
    "    def __init__(self, size) -> None:\n",
    "        self.size = size\n",
    "        self.circular_queue = [None]*self.size\n",
    "        self.head = self.tail = -1\n",
    "    \n",
    "    def enqueue(self, element):\n",
    "        if (self.tail+1)%self.size == self.head:\n",
    "            print(\"Circular queue is full\")\n",
    "        elif self.head == -1:\n",
    "            self.head = 0\n",
    "            self.tail = 0\n",
    "            self.circular_queue[self.tail] = element\n",
    "            print(f\"Queue filled upto index {self.tail}\")\n",
    "        else:\n",
    "            self.tail = (self.tail+1)%self.size\n",
    "            self.circular_queue[self.tail] = element\n",
    "            print(f\"Queue filled upto index {self.tail}\")\n",
    "        \n",
    "    def dequeue(self):\n",
    "        if self.head == -1:\n",
    "            print(\"Circular queue is empty\")\n",
    "        elif self.head == self.tail:\n",
    "            temp = self.circular_queue[self.head]\n",
    "            self.head = -1\n",
    "            self.tail = -1\n",
    "            print(f\"Element {temp} removed from Queue\")\n",
    "            return temp\n",
    "        else:\n",
    "            temp = self.circular_queue[self.head]\n",
    "            self.head = (self.head+1)%self.size\n",
    "            print(f\"Element {temp} removed from Queue\")\n",
    "            return temp\n",
    "        \n",
    "    def printCQueue(self):\n",
    "        if self.head == -1:\n",
    "            print(\"Circular Queue is empty\")\n",
    "        elif self.tail>=self.head:\n",
    "            print(\"Elements in the Queue: \", end=\" \")\n",
    "            for i in range(self.head, self.tail+1):\n",
    "                print(self.circular_queue[i], end=\" \")\n",
    "            print()\n",
    "        else:\n",
    "            print(\"Elements in the Queue:\", end=\" \")\n",
    "            for i in range(self.head, self.size):\n",
    "                print(self.circular_queue[i],end=\" \")\n",
    "            for i in range(self.head, self.tail+1):\n",
    "                print(self.circular_queue[i], end=\" \")\n",
    "            print()\n",
    "\n",
    "cq = CircularQueue(5)"
   ]
  },
  {
   "cell_type": "code",
   "execution_count": 157,
   "metadata": {},
   "outputs": [
    {
     "name": "stdout",
     "output_type": "stream",
     "text": [
      "Queue filled upto index 0\n",
      "Queue filled upto index 1\n",
      "Queue filled upto index 2\n",
      "Queue filled upto index 3\n",
      "Queue filled upto index 4\n",
      "Circular queue is full\n",
      "------------------------Current elenments in Queue----------------------------\n",
      "Elements in the Queue:  1 2 3 4 5 \n",
      "Element 1 removed from Queue\n",
      "Elements in the Queue:  2 3 4 5 \n"
     ]
    }
   ],
   "source": [
    "cq.enqueue(1)\n",
    "cq.enqueue(2)\n",
    "cq.enqueue(3)\n",
    "cq.enqueue(4)\n",
    "cq.enqueue(5)\n",
    "cq.enqueue(7)\n",
    "print(\"------------------------Current elenments in Queue----------------------------\")\n",
    "cq.printCQueue()\n",
    "cq.dequeue()\n",
    "cq.printCQueue()"
   ]
  },
  {
   "cell_type": "markdown",
   "metadata": {},
   "source": [
    "# Deque\n",
    "Deque of Double Ended Queue is a type of queue in which insertion and deletion operation can be performed from both the ends. Thus it dos not follow FIFO rule.\n",
    "### Types of Deque\n",
    "<strong>Input Restricted deque</strong><br>\n",
    "In this deque, input is restricted on one end but deletion can be performed on both the ends.<br><br>\n",
    "<strong>Output Restricted Deque</strong><br>\n",
    "In this type of deque, insertion can be performed on both the end but deletion is restricted on one end."
   ]
  },
  {
   "cell_type": "code",
   "execution_count": 233,
   "metadata": {},
   "outputs": [],
   "source": [
    "class Deque():\n",
    "    def __init__(self, size) -> None:\n",
    "        self.size = size\n",
    "        self.deque = [None]* self.size\n",
    "        self.front = -1 \n",
    "        self.rear = 0\n",
    "    \n",
    "    def enqueue(self, elem):\n",
    "        if (self.front == 0 & self.rear == self.size-1) | (self.front == self.rear+1):  #If the deque is full\n",
    "            print(\"The Deque is Full\")\n",
    "        elif self.front == -1:  #If deque is empty\n",
    "            self.front = 0\n",
    "            self.deque[self.front] = elem\n",
    "            print(f\"Element {elem} inserted in the deque\")\n",
    "        elif self.front == 0:   #IF deque contains element at the first index\n",
    "            self.front = self.size-1\n",
    "            self.deque[self.front] = elem\n",
    "            print(f\"Element {elem} inserted at the front of deque\")\n",
    "        else:  #decrease the front pointer by -1 so that the element is placed at one index lesee than the previous position\n",
    "            self.front = self.front - 1\n",
    "            self.deque[self.front] = elem\n",
    "            print(f\"element {elem} inserted into the deque\")\n",
    "    def dequeue(self):\n",
    "        if self.front == -1:  #If the deque is empty\n",
    "            print(\"Underflow condition: The deque is empty\")\n",
    "        elif self.front == self.rear: #If the deque contains only one lement at the beginning\n",
    "            temp = self.deque[self.front]\n",
    "            self.front = -1\n",
    "            self.rear = -1\n",
    "            print(f\"Element {temp} removed from deque\")\n",
    "            # return temp\n",
    "        elif self.front == self.size - 1:   #IF element is at the last index (the second element if the deque)\n",
    "            temp = self.deque[self.front]\n",
    "            self.front = 0\n",
    "            print(f\"Element {temp} removed from deque\")\n",
    "            # return temp\n",
    "        else:   # Elese increse the index of pointer by 1\n",
    "            temp = self.deque[self.front]\n",
    "            self.front += 1\n",
    "            print(f\"Element {temp} removed deque\")\n",
    "            # return temp\n",
    "\n",
    "FrontDeque = Deque(5)"
   ]
  },
  {
   "cell_type": "code",
   "execution_count": 234,
   "metadata": {},
   "outputs": [
    {
     "name": "stdout",
     "output_type": "stream",
     "text": [
      "Element 3 inserted in the deque\n",
      "Element 4 inserted at the front of deque\n",
      "element 2 inserted into the deque\n",
      "element 6 inserted into the deque\n",
      "element 7 inserted into the deque\n",
      "The Deque is Full\n"
     ]
    }
   ],
   "source": [
    "FrontDeque.enqueue(3)\n",
    "FrontDeque.enqueue(4)\n",
    "FrontDeque.enqueue(2)\n",
    "FrontDeque.enqueue(6)\n",
    "FrontDeque.enqueue(7)\n",
    "FrontDeque.enqueue(5)"
   ]
  },
  {
   "cell_type": "code",
   "execution_count": 231,
   "metadata": {},
   "outputs": [
    {
     "name": "stdout",
     "output_type": "stream",
     "text": [
      "Underflow condition: The deque is empty\n"
     ]
    }
   ],
   "source": [
    "FrontDeque.dequeue()"
   ]
  },
  {
   "cell_type": "markdown",
   "metadata": {},
   "source": [
    "# Linked List"
   ]
  },
  {
   "cell_type": "code",
   "execution_count": null,
   "metadata": {},
   "outputs": [],
   "source": [
    "class LinkedList():\n",
    "    def __init__(self) -> None:\n",
    "        pass"
   ]
  }
 ],
 "metadata": {
  "kernelspec": {
   "display_name": "Python 3",
   "language": "python",
   "name": "python3"
  },
  "language_info": {
   "codemirror_mode": {
    "name": "ipython",
    "version": 3
   },
   "file_extension": ".py",
   "mimetype": "text/x-python",
   "name": "python",
   "nbconvert_exporter": "python",
   "pygments_lexer": "ipython3",
   "version": "3.11.9"
  }
 },
 "nbformat": 4,
 "nbformat_minor": 2
}
