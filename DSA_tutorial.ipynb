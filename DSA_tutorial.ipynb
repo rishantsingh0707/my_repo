{
 "cells": [
  {
   "cell_type": "markdown",
   "metadata": {},
   "source": [
    "### Basic Python Questions"
   ]
  },
  {
   "cell_type": "code",
   "execution_count": 1,
   "metadata": {},
   "outputs": [
    {
     "name": "stdout",
     "output_type": "stream",
     "text": [
      "Variables before swaping: Variable 1 = 21, variable 2 = 54\n",
      "Variables after swaping: Variable 1 = 54, variable 2 = 21\n"
     ]
    }
   ],
   "source": [
    "# 1. Write a Python program to swap two variables without using a temporary variable.\n",
    "\n",
    "variable1 = 21\n",
    "variable2 = 54\n",
    "print(f\"Variables before swaping: Variable 1 = {variable1}, variable 2 = {variable2}\")\n",
    "variable1, variable2 = variable2, variable1\n",
    "print(f\"Variables after swaping: Variable 1 = {variable1}, variable 2 = {variable2}\")"
   ]
  },
  {
   "cell_type": "code",
   "execution_count": 2,
   "metadata": {},
   "outputs": [
    {
     "name": "stdout",
     "output_type": "stream",
     "text": [
      "Total number of vowels in the string are: 4\n"
     ]
    }
   ],
   "source": [
    "# 2. Create a function that takes a string and returns the number of vowels in the string.\n",
    "def count_vowels(string) -> str:\n",
    "    vowels = [\"a\", \"e\", \"i\", \"o\", \"u\"]\n",
    "    count = 0\n",
    "    for char in string.lower():\n",
    "        if char in vowels:\n",
    "            count +=1\n",
    "    return count\n",
    "\n",
    "vowels = count_vowels(\"My name is Khan.\")\n",
    "print(f\"Total number of vowels in the string are: {vowels}\")"
   ]
  },
  {
   "cell_type": "code",
   "execution_count": 3,
   "metadata": {},
   "outputs": [
    {
     "name": "stdout",
     "output_type": "stream",
     "text": [
      "Factorial of the number 5 is 120\n"
     ]
    }
   ],
   "source": [
    "# 3. Write a program to find the factorial of a given number using recursion.\n",
    "def find_factorial(number)->int:\n",
    "    if number<0:\n",
    "        print(\"Incorrect Value. Factorial of number less than 0(zero) cannot be found\")\n",
    "    elif number==0:\n",
    "        return 1\n",
    "    else:\n",
    "        return number * find_factorial(number-1)\n",
    "\n",
    "number = 5\n",
    "factorial = find_factorial(number)\n",
    "print(f\"Factorial of the number {number} is {factorial}\")"
   ]
  },
  {
   "cell_type": "code",
   "execution_count": 69,
   "metadata": {},
   "outputs": [
    {
     "name": "stdout",
     "output_type": "stream",
     "text": [
      "17 is a prime number.\n"
     ]
    }
   ],
   "source": [
    "# 4. Write a Python script to check whether a given number is prime or not.\n",
    "def is_prime(number):\n",
    "    if number <= 1:\n",
    "        return False\n",
    "    for counter in range(2, int(number ** 0.5) + 1):\n",
    "        if number % counter == 0:\n",
    "            return False\n",
    "    return True\n",
    "\n",
    "num = 17\n",
    "if is_prime(num):\n",
    "    print(f\"{num} is a prime number.\")\n",
    "else:\n",
    "    print(f\"{num} is not a prime number.\")"
   ]
  },
  {
   "cell_type": "code",
   "execution_count": 5,
   "metadata": {},
   "outputs": [
    {
     "name": "stdout",
     "output_type": "stream",
     "text": [
      "[0, 1, 1, 2, 3, 5, 8, 13, 21, 34, 55]\n"
     ]
    }
   ],
   "source": [
    "# 5. Create a program that prints the Fibonacci sequence up to n terms.\n",
    "def fibonacci(number) -> int:\n",
    "    n1 = 0\n",
    "    n2 = 1\n",
    "    result = []\n",
    "    while number>0:\n",
    "        result.append(n1)\n",
    "        n1, n2 = n1+n2, n1\n",
    "        number-=1\n",
    "    return result\n",
    "\n",
    "number = 11\n",
    "print(fibonacci(number))"
   ]
  },
  {
   "cell_type": "code",
   "execution_count": 6,
   "metadata": {},
   "outputs": [
    {
     "name": "stdout",
     "output_type": "stream",
     "text": [
      "?eman ruoy si tahW\n"
     ]
    }
   ],
   "source": [
    "# 6 Write a Python function to reverse a given string.\n",
    "def reverse(string) -> str:\n",
    "    return string[::-1]\n",
    "string = \"What is your name?\"\n",
    "print(reverse(string))"
   ]
  },
  {
   "cell_type": "code",
   "execution_count": 7,
   "metadata": {},
   "outputs": [
    {
     "name": "stdout",
     "output_type": "stream",
     "text": [
      "{'this': 2, 'is': 2, 'a': 1, 'sample': 2, 'string.': 1, 'string': 1, 'meant': 1, 'for': 1, 'usage': 1, 'only': 1}\n"
     ]
    }
   ],
   "source": [
    "# 7. Implement a Python program to count the occurrences of each word in a given sentence.\n",
    "def count_occurance(string) -> str:\n",
    "    occurance = {}\n",
    "    string = string.lower().split(\" \")\n",
    "    for word in string:\n",
    "        if word in occurance.keys():\n",
    "            occurance[word] += 1\n",
    "        else:\n",
    "            occurance[word] = 1\n",
    "    return(occurance)\n",
    "\n",
    "string = \"This is a sample string. This string is meant for sample usage only\"\n",
    "print(count_occurance(string))"
   ]
  },
  {
   "cell_type": "code",
   "execution_count": 8,
   "metadata": {},
   "outputs": [
    {
     "name": "stdout",
     "output_type": "stream",
     "text": [
      "The string 'Racecar' is a Palindrome\n"
     ]
    }
   ],
   "source": [
    "# 8. Write a function to check if a given string is a palindrome.\n",
    "def is_palindrome(string)->str:\n",
    "    reversed_str = string[::-1]\n",
    "    if string.lower() == reversed_str.lower():\n",
    "        return True\n",
    "    return False\n",
    "\n",
    "string = \"Racecar\"\n",
    "if is_palindrome(string):\n",
    "    print(f\"The string '{string}' is a Palindrome\")\n",
    "else:\n",
    "    print(f\"The string '{string}' is not a Palindrome\")"
   ]
  },
  {
   "cell_type": "code",
   "execution_count": 9,
   "metadata": {},
   "outputs": [
    {
     "name": "stdout",
     "output_type": "stream",
     "text": [
      "The number 11 is an odd number\n"
     ]
    }
   ],
   "source": [
    "# 9. Write a program to check if a number is even or odd.\n",
    "def is_even(number) -> int:\n",
    "    if number % 2 == 0:\n",
    "        return True\n",
    "    return False\n",
    "\n",
    "if is_even(number):\n",
    "    print(f\"The number {number} is an even number\")\n",
    "else:\n",
    "    print(f\"The number {number} is an odd number\")"
   ]
  },
  {
   "cell_type": "code",
   "execution_count": 10,
   "metadata": {},
   "outputs": [
    {
     "name": "stdout",
     "output_type": "stream",
     "text": [
      "Sum of all elements in the list is 11\n"
     ]
    }
   ],
   "source": [
    "# 10. Create a Python function that takes a list and returns the sum of all its elements.\n",
    "list1 = [1,2,3,5]\n",
    "\n",
    "list_ele_sum = sum(ele for ele in list1)\n",
    "print(f\"Sum of all elements in the list is {list_ele_sum}\")"
   ]
  },
  {
   "cell_type": "code",
   "execution_count": 11,
   "metadata": {},
   "outputs": [
    {
     "name": "stdout",
     "output_type": "stream",
     "text": [
      "18\n"
     ]
    }
   ],
   "source": [
    "# 11. Write a Python program to find the largest element in a list.\n",
    "a_list = [3,6,4,9,13,18,10,16]\n",
    "a_list.sort()\n",
    "print(a_list[-1])"
   ]
  },
  {
   "cell_type": "code",
   "execution_count": 12,
   "metadata": {},
   "outputs": [
    {
     "name": "stdout",
     "output_type": "stream",
     "text": [
      " New sorted merged list: [0, 1, 1, 2, 4, 5, 5, 7, 8, 9]\n"
     ]
    }
   ],
   "source": [
    "# 12. Write a function to merge two sorted lists into one sorted list.\n",
    "def mergesorted(list1, list2):\n",
    "    return sorted(list1+list2)\n",
    "\n",
    "list1 = [4,5,7,1,2]\n",
    "list2 = [9,0,5,8,1]\n",
    "list1.sort()\n",
    "list2.sort()\n",
    "merged_list = mergesorted(list1=list1, list2=list2)\n",
    "print(\" New sorted merged list:\", merged_list)"
   ]
  },
  {
   "cell_type": "code",
   "execution_count": 13,
   "metadata": {},
   "outputs": [
    {
     "name": "stdout",
     "output_type": "stream",
     "text": [
      "110\n"
     ]
    }
   ],
   "source": [
    "# 13. Create a program to convert a decimal number to binary.\n",
    "\n",
    "# Method 1: Using manual approach\n",
    "def DecimalToBinary(decimal_number)->int:\n",
    "    if decimal_number == 0:\n",
    "        return \"0\"\n",
    "    elif decimal_number == 1:\n",
    "        return \"1\"\n",
    "    else:\n",
    "        return DecimalToBinary(decimal_number//2)+ str(decimal_number%2)\n",
    "    \n",
    "# Method 2: Using format() method\n",
    "def DecimalTo_Binary(decimal_number)->int:\n",
    "    return format(decimal_number, \"b\")\n",
    "\n",
    "# Method 3: Using inbuilt bin() method \n",
    "def Decimal_To_Binary(decimal_number)->int:\n",
    "    return bin(decimal_number)[2:]\n",
    "\n",
    "number = 6\n",
    "print(Decimal_To_Binary(number))"
   ]
  },
  {
   "cell_type": "code",
   "execution_count": 14,
   "metadata": {},
   "outputs": [
    {
     "name": "stdout",
     "output_type": "stream",
     "text": [
      "Length of the given list is 5\n"
     ]
    }
   ],
   "source": [
    "# 14. Write a Python program to find the length of a list without using len().\n",
    "len_list = list1.index(list1[-1])+1\n",
    "print(f\"Length of the given list is {len_list}\")"
   ]
  },
  {
   "cell_type": "code",
   "execution_count": 35,
   "metadata": {},
   "outputs": [
    {
     "name": "stdout",
     "output_type": "stream",
     "text": [
      "2000 is a leap year as well as century year\n"
     ]
    }
   ],
   "source": [
    "# 15. Create a function to check if a given year is a leap year.\n",
    "def is_leap_year(year)->int:\n",
    "    if year % 100 == 0 and year % 4 == 0:\n",
    "        print(f\"{year} is a leap year as well as century year\")\n",
    "    elif year%4==0:\n",
    "        print(f\"{year} is a leap year\")\n",
    "    else:\n",
    "        print(f\"{year} is not a leap year\")\n",
    "    \n",
    "is_leap_year(2000)"
   ]
  },
  {
   "cell_type": "code",
   "execution_count": 36,
   "metadata": {},
   "outputs": [
    {
     "name": "stdout",
     "output_type": "stream",
     "text": [
      "Uniqe elements in the list after removing duplicate elements: [1, 2, 3, 4, 5, 6]\n",
      "List after removing duplicate elements: [1, 2, 3, 4, 5, 6]\n"
     ]
    }
   ],
   "source": [
    "# 16. Write a Python program to remove duplicate elements from a list.\n",
    "\n",
    "#Method 1. Using set method()\n",
    "\n",
    "duplist = [1,4,3,2,1,6,3,6,5,4]\n",
    "print(\"Uniqe elements in the list after removing duplicate elements:\",list(set(duplist)))\n",
    "\n",
    "#Method 2. Using a loop\n",
    "templist = []\n",
    "for ele in duplist:\n",
    "    if ele not in templist:\n",
    "        templist.append(ele)\n",
    "templist.sort()\n",
    "print(\"List after removing duplicate elements:\", templist)"
   ]
  },
  {
   "cell_type": "code",
   "execution_count": 37,
   "metadata": {},
   "outputs": [
    {
     "name": "stdout",
     "output_type": "stream",
     "text": [
      "Greatest common divisor of the numebrs 6 and 4 is (4, 2)\n"
     ]
    }
   ],
   "source": [
    "# 17. Implement a function to find the greatest common divisor (GCD) of two numbers.\n",
    "\n",
    "def gcd(num1, num2):\n",
    "    num1, num2 = num2, num1%num2\n",
    "    return num1, num2\n",
    "\n",
    "num1 = 6\n",
    "num2 = 4\n",
    "print(f\"Greatest common divisor of the numebrs {num1} and {num2} is {gcd(num1, num2)}\")"
   ]
  },
  {
   "cell_type": "code",
   "execution_count": null,
   "metadata": {},
   "outputs": [
    {
     "name": "stdout",
     "output_type": "stream",
     "text": [
      "4 2\n",
      "Sum of all digits in the number 12 is 3\n"
     ]
    }
   ],
   "source": [
    "# 18. Write a function to calculate the sum of all digits in a given number.\n",
    "\n",
    "def sum_digit(number):\n",
    "    sum = 0\n",
    "    while number != 0:\n",
    "        current_digit = number % 10\n",
    "        sum += current_digit\n",
    "        number //=10\n",
    "    return sum\n",
    "number = 12\n",
    "print(f\"Sum of all digits in the number {number} is {sum_digit(number)}\")"
   ]
  },
  {
   "cell_type": "code",
   "execution_count": 40,
   "metadata": {},
   "outputs": [
    {
     "name": "stdout",
     "output_type": "stream",
     "text": [
      "Generated 4 length password is: aR5c\n"
     ]
    }
   ],
   "source": [
    "# 19. Create a program that generates a random password of n length.\n",
    "import random\n",
    "import string\n",
    "\n",
    "characters = string.ascii_letters + string.digits\n",
    "size = 4\n",
    "# password = 0\n",
    "password = \"\".join(random.choice(characters) for _ in range(size))\n",
    "print(f\"Generated {size} length password is: {password}\")"
   ]
  },
  {
   "cell_type": "code",
   "execution_count": null,
   "metadata": {},
   "outputs": [
    {
     "name": "stdout",
     "output_type": "stream",
     "text": [
      "5\n"
     ]
    }
   ],
   "source": [
    "# 20. Write a Python function that returns the second largest number in a list.\n",
    "\n",
    "kth_largest = 2\n",
    "duplist = list(set(duplist))\n",
    "duplist.sort()\n",
    "print(duplist[-kth_largest])"
   ]
  },
  {
   "cell_type": "markdown",
   "metadata": {},
   "source": [
    "### Intermediate Python Questions"
   ]
  },
  {
   "cell_type": "code",
   "execution_count": null,
   "metadata": {},
   "outputs": [
    {
     "name": "stdout",
     "output_type": "stream",
     "text": [
      "The list [4, 3, 1, 5, 7, 9] is not sorted\n"
     ]
    }
   ],
   "source": [
    "# 21. Write a Python program that checks if a given list is sorted or not.\n",
    "\n",
    "def is_sorted(inp_list)->list:\n",
    "    # return all(inp_list[i]<=inp_list[i+1] for i in range(len{inp_list}-1))\n",
    "    return all(inp_list[i]<=inp_list[i+1] for i in range(len(inp_list)-1))\n",
    "\n",
    "new_list = [4,3,1,5,7,9]\n",
    "# new_list.sort()\n",
    "print(f\"the list {new_list} is sorted\" if is_sorted(new_list) else f\"The list {new_list} is not sorted\")"
   ]
  },
  {
   "cell_type": "code",
   "execution_count": null,
   "metadata": {},
   "outputs": [
    {
     "name": "stdout",
     "output_type": "stream",
     "text": [
      "The maximum subarray sum in the array [-6, 7, 8, -4, 2, 12, -4, 21] is: 42\n"
     ]
    }
   ],
   "source": [
    "# 22. Implement a function to find the maximum subarray sum (Kadane's Algorithm).\n",
    "\n",
    "def max_suarray_sum(arr)->list:\n",
    "    current_sum = 0\n",
    "    max_sum = float(\"-inf\")\n",
    "\n",
    "    for num in arr:\n",
    "        current_sum = max(num, current_sum+num)\n",
    "        max_sum = max(max_sum, current_sum)\n",
    "    \n",
    "    return max_sum\n",
    "\n",
    "array = [-6, 7, 8,-4, 2, 12, -4, 21]\n",
    "print(f\"The maximum subarray sum in the array {array} is:\", max_suarray_sum(array))"
   ]
  },
  {
   "cell_type": "code",
   "execution_count": 62,
   "metadata": {},
   "outputs": [
    {
     "name": "stdout",
     "output_type": "stream",
     "text": [
      "Final flattened list is: [1, 2, 3, 4, 5, 6, 7, 8]\n"
     ]
    }
   ],
   "source": [
    "# 23. Write a Python program to flatten a nested list structure.\n",
    "\n",
    "def flatten(nested_list):\n",
    "    final_list = []\n",
    "    for sub_item in nested_list:\n",
    "        if isinstance(sub_item, list):\n",
    "            final_list.extend(flatten(sub_item))\n",
    "        else:\n",
    "            final_list.append(sub_item)\n",
    "    return final_list\n",
    "\n",
    "nested_list = [[1, 2, [3, 4]], 5, [6, [7, 8]]]\n",
    "flattened_list = flatten(nested_list)\n",
    "print(\"Final flattened list is:\", flattened_list)"
   ]
  },
  {
   "cell_type": "code",
   "execution_count": 68,
   "metadata": {},
   "outputs": [
    {
     "name": "stdout",
     "output_type": "stream",
     "text": [
      "True\n",
      "False\n",
      "True\n"
     ]
    }
   ],
   "source": [
    "# 24. Create a function that takes two strings and checks if one is a permutation of the other.\n",
    "def are_permutations(str1, str2):\n",
    "    return sorted(str1) == sorted(str2)\n",
    "\n",
    "print(are_permutations(\"listen\", \"silent\"))\n",
    "print(are_permutations(\"hello\", \"world\"))\n",
    "print(are_permutations(\"abcde\", \"edcba\"))"
   ]
  },
  {
   "cell_type": "code",
   "execution_count": 82,
   "metadata": {},
   "outputs": [
    {
     "name": "stdout",
     "output_type": "stream",
     "text": [
      "Prime number upto 10 are [2, 3, 5, 7]\n"
     ]
    }
   ],
   "source": [
    "# 25. Write a Python program to generate all prime numbers up to n using the Sieve of Eratosthenes\n",
    "def prime_n(num_range):\n",
    "    result = []\n",
    "    def isprime(number):\n",
    "        if number <= 1:\n",
    "            return False\n",
    "        for counter in range(2, int(number ** 0.5) + 1):\n",
    "            if number % counter == 0:\n",
    "                return False\n",
    "        return True\n",
    "    \n",
    "    return [ele for ele in range(2, num_range+1) if isprime(ele)]\n",
    "\n",
    "number = 10\n",
    "print(f\"Prime number upto {number} are {prime_n(number)}\")"
   ]
  },
  {
   "cell_type": "code",
   "execution_count": null,
   "metadata": {},
   "outputs": [],
   "source": []
  },
  {
   "cell_type": "code",
   "execution_count": null,
   "metadata": {},
   "outputs": [],
   "source": []
  },
  {
   "cell_type": "code",
   "execution_count": 47,
   "metadata": {},
   "outputs": [
    {
     "name": "stdout",
     "output_type": "stream",
     "text": [
      "407 is an Armstrong number\n"
     ]
    }
   ],
   "source": [
    "# Armstrong number: An Armstrong number is a positive integer that is equal to the sum of its own digits each raised to the power of the number of digits\n",
    "# For example, the number 153 is an Armstrong number because:\n",
    "# 1^3 + 5^3 + 3^3 = 1 + 125 + 27 = 153\n",
    "\n",
    "\"\"\"\n",
    "Steps:\n",
    "1. Find the length of the number\n",
    "2. Initialize the sum list. This will be used to store the intermediate results\n",
    "3. calculate the the sum of power of digits \n",
    "    a. use (%) operator to get each <digit> of the number and store them in a seperate variable.\n",
    "    b. calculate the power of the digit and add the result to sum (which store sum of previously calculated power values of each digit)\n",
    "    c. get the next remaining digits (using // operator).\n",
    "\"\"\"\n",
    "def is_armstrong(number):\n",
    "    digits = len(str(number))\n",
    "    power_number = 0\n",
    "    temp = number\n",
    "    while temp>0:\n",
    "        curr_digit = temp%10\n",
    "        power_number += curr_digit ** digits\n",
    "        temp//=10\n",
    "    return power_number == number\n",
    "\n",
    "number = 407\n",
    "if is_armstrong(number):\n",
    "    print(f\"{number} is an Armstrong number\")\n",
    "else:\n",
    "    print(f\"{number} is not an Armstrong number\")"
   ]
  },
  {
   "cell_type": "code",
   "execution_count": 29,
   "metadata": {},
   "outputs": [
    {
     "name": "stdout",
     "output_type": "stream",
     "text": [
      "Original number: 12321\n",
      "------------------------------------------------------\n",
      "Digit: 1\n",
      "Reverse number: 1\n",
      "Current number: 1232\n",
      "Digit: 2\n",
      "Reverse number: 12\n",
      "Current number: 123\n",
      "Digit: 3\n",
      "Reverse number: 123\n",
      "Current number: 12\n",
      "Digit: 2\n",
      "Reverse number: 1232\n",
      "Current number: 1\n",
      "Digit: 1\n",
      "Reverse number: 12321\n",
      "Current number: 0\n",
      "--------------------------------------------------------------------\n",
      "Final reversed number: 12321\n"
     ]
    }
   ],
   "source": [
    "# Python program to reverse a number\n",
    "number = 12321\n",
    "print(\"Original number:\", number)\n",
    "print(\"------------------------------------------------------\")\n",
    "reverse_sum = 0\n",
    "while number>0:\n",
    "    digit = number%10\n",
    "    print(\"Digit:\", digit)\n",
    "    reverse_sum = reverse_sum*10 + digit\n",
    "    print(\"Reverse number:\", reverse_sum)\n",
    "    number//=10\n",
    "    print(\"Current number:\", number)\n",
    "\n",
    "print(\"--------------------------------------------------------------------\")\n",
    "print(\"Final reversed number:\",reverse_sum)"
   ]
  },
  {
   "cell_type": "code",
   "execution_count": 13,
   "metadata": {},
   "outputs": [
    {
     "name": "stdout",
     "output_type": "stream",
     "text": [
      "[0, 1, 1, 2, 3, 5, 8, 13, 21, 34, 55]\n"
     ]
    }
   ],
   "source": [
    "# Fibonacci series\n",
    "number = 11\n",
    "n1 = 0\n",
    "n2 = 1\n",
    "result = []\n",
    "for num in range(number):\n",
    "    result.append(n1)\n",
    "    temp = n1\n",
    "    n1 += n2\n",
    "    n2 = temp\n",
    "    \n",
    "print(result)"
   ]
  },
  {
   "cell_type": "code",
   "execution_count": null,
   "metadata": {},
   "outputs": [],
   "source": []
  },
  {
   "cell_type": "code",
   "execution_count": null,
   "metadata": {},
   "outputs": [],
   "source": []
  }
 ],
 "metadata": {
  "kernelspec": {
   "display_name": "Python 3",
   "language": "python",
   "name": "python3"
  },
  "language_info": {
   "codemirror_mode": {
    "name": "ipython",
    "version": 3
   },
   "file_extension": ".py",
   "mimetype": "text/x-python",
   "name": "python",
   "nbconvert_exporter": "python",
   "pygments_lexer": "ipython3",
   "version": "3.11.9"
  }
 },
 "nbformat": 4,
 "nbformat_minor": 2
}
